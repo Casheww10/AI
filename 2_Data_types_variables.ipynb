{
  "nbformat": 4,
  "nbformat_minor": 0,
  "metadata": {
    "colab": {
      "provenance": [],
      "authorship_tag": "ABX9TyNGSjKZRyOwJZSGgrXeIuSd",
      "include_colab_link": true
    },
    "kernelspec": {
      "name": "python3",
      "display_name": "Python 3"
    },
    "language_info": {
      "name": "python"
    }
  },
  "cells": [
    {
      "cell_type": "markdown",
      "metadata": {
        "id": "view-in-github",
        "colab_type": "text"
      },
      "source": [
        "<a href=\"https://colab.research.google.com/github/Casheww10/AI/blob/main/2_Data_types_variables.ipynb\" target=\"_parent\"><img src=\"https://colab.research.google.com/assets/colab-badge.svg\" alt=\"Open In Colab\"/></a>"
      ]
    },
    {
      "cell_type": "code",
      "execution_count": 2,
      "metadata": {
        "colab": {
          "base_uri": "https://localhost:8080/",
          "height": 35
        },
        "id": "q-eh7yVIxLi1",
        "outputId": "5a5f70af-83c1-4286-830a-dbcc7eba0538"
      },
      "outputs": [
        {
          "output_type": "execute_result",
          "data": {
            "text/plain": [
              "'kajol'"
            ],
            "application/vnd.google.colaboratory.intrinsic+json": {
              "type": "string"
            }
          },
          "metadata": {},
          "execution_count": 2
        }
      ],
      "source": [
        "str('kajol') #string is any letter ,word or sentences."
      ]
    },
    {
      "cell_type": "code",
      "source": [
        "name = 'kajol' #name of the variable , now the variable is stored directly.\n",
        "print(name) #inorder to access the variable we use print statement."
      ],
      "metadata": {
        "colab": {
          "base_uri": "https://localhost:8080/"
        },
        "id": "bV-ytGR7yiAA",
        "outputId": "f278dfc0-f55c-4277-beed-ef5f8b26eff7"
      },
      "execution_count": 4,
      "outputs": [
        {
          "output_type": "stream",
          "name": "stdout",
          "text": [
            "kajol\n"
          ]
        }
      ]
    },
    {
      "cell_type": "code",
      "source": [
        "name = 'kajol' #lets use int and float.\n",
        "age = 24 #here age is an integer\n",
        "percent = 64 #here percent is float ,but there will be no output because we didn't access the statement, we just stored the statement.how will we know that statement is string,integer or float.we can see in next step."
      ],
      "metadata": {
        "id": "zr0m8wR7zw7q"
      },
      "execution_count": 6,
      "outputs": []
    },
    {
      "cell_type": "code",
      "source": [
        "type(name) #this is how we can define what kind of statement is this. Like now I know this name is a string. Similarly we can check multiple statements like int , float etc."
      ],
      "metadata": {
        "colab": {
          "base_uri": "https://localhost:8080/"
        },
        "id": "6KkwVjdp0vOI",
        "outputId": "24347f6e-0c18-4ff7-f543-6e32964f2064"
      },
      "execution_count": 7,
      "outputs": [
        {
          "output_type": "execute_result",
          "data": {
            "text/plain": [
              "str"
            ]
          },
          "metadata": {},
          "execution_count": 7
        }
      ]
    },
    {
      "cell_type": "code",
      "source": [],
      "metadata": {
        "id": "MbqnMTN51dEM"
      },
      "execution_count": null,
      "outputs": []
    }
  ]
}