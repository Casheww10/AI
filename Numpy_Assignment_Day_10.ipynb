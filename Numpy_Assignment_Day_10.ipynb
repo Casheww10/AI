{
  "cells": [
    {
      "cell_type": "markdown",
      "metadata": {
        "id": "view-in-github",
        "colab_type": "text"
      },
      "source": [
        "<a href=\"https://colab.research.google.com/github/Casheww10/AI/blob/main/Numpy_Assignment_Day_10.ipynb\" target=\"_parent\"><img src=\"https://colab.research.google.com/assets/colab-badge.svg\" alt=\"Open In Colab\"/></a>"
      ]
    },
    {
      "cell_type": "markdown",
      "metadata": {
        "id": "v_5a6dEGYukp"
      },
      "source": [
        "# <center> Numpy Basics </center>"
      ]
    },
    {
      "cell_type": "code",
      "execution_count": 2,
      "metadata": {
        "id": "NnhU92SsYukv"
      },
      "outputs": [],
      "source": [
        "# import numpy module with alias np\n",
        "import numpy as np\n",
        "\n"
      ]
    },
    {
      "cell_type": "markdown",
      "metadata": {
        "id": "onEY9HMeYuk0"
      },
      "source": [
        "We can create a NumPy ndarray object by using the array() function.\n",
        "To create an ndarray, we can pass a list, tuple or any array-like object into the array() method, and it will be converted into an ndarray:\n"
      ]
    },
    {
      "cell_type": "code",
      "execution_count": 3,
      "metadata": {
        "id": "BCdPh0rqYuk0"
      },
      "outputs": [],
      "source": [
        "# Define a numpy array passing a list with  1,2 and 3 as elements in it\n",
        "import numpy as np\n",
        "\n",
        "arr = np.array([1, 2, 3])\n",
        "\n"
      ]
    },
    {
      "cell_type": "code",
      "execution_count": 4,
      "metadata": {
        "id": "up-97mFyYuk1",
        "colab": {
          "base_uri": "https://localhost:8080/"
        },
        "outputId": "da045758-ec0a-4fcb-9c69-c5d458dc6c68"
      },
      "outputs": [
        {
          "output_type": "stream",
          "name": "stdout",
          "text": [
            "[1 2 3]\n"
          ]
        }
      ],
      "source": [
        "# print output\n",
        "print(arr)\n"
      ]
    },
    {
      "cell_type": "markdown",
      "metadata": {
        "id": "I5wC2n70Yuk2"
      },
      "source": [
        "## Dimensions in Arrays\n",
        "\n",
        "Create arrays of different dimentions.\n",
        "\n",
        "a=A numpy array with one single integer 10\n",
        "\n",
        "b=A numpy array passing a list having a list= [1,2,3]\n",
        "\n",
        "c=A numpy array passing nested list having [[1, 2, 3], [4, 5, 6]] as elements\n",
        "\n",
        "d=A numpy array passing nested list having [[[1, 2, 3], [4, 5, 6]], [[1, 2, 3], [4, 5, 6]]] as elements"
      ]
    },
    {
      "cell_type": "code",
      "execution_count": 5,
      "metadata": {
        "id": "75VeuGacYuk3",
        "colab": {
          "base_uri": "https://localhost:8080/"
        },
        "outputId": "fb475a0b-2ac7-4817-b77c-8e4944465175"
      },
      "outputs": [
        {
          "output_type": "stream",
          "name": "stdout",
          "text": [
            "a: [1 2 3]\n",
            "b: [4 5 6]\n",
            "c: [7 8 9]\n",
            "d: [10 11 12]\n"
          ]
        }
      ],
      "source": [
        "#define a,b,c and d as instructed above\n",
        "\n",
        "# a =\n",
        "# b =\n",
        "# c =\n",
        "# d =\n",
        "import numpy as np\n",
        "\n",
        "# Define numpy arrays\n",
        "a = np.array([1, 2, 3])\n",
        "b = np.array([4, 5, 6])\n",
        "c = np.array([7, 8, 9])\n",
        "d = np.array([10, 11, 12])\n",
        "\n",
        "# Print the arrays\n",
        "print(\"a:\", a)\n",
        "print(\"b:\", b)\n",
        "print(\"c:\", c)\n",
        "print(\"d:\", d)\n",
        "\n"
      ]
    },
    {
      "cell_type": "markdown",
      "metadata": {
        "id": "qtUQhJgsYuk5"
      },
      "source": [
        "Are you ready to check its dimention? Use ndim attribute on each variable to check its dimention"
      ]
    },
    {
      "cell_type": "code",
      "execution_count": 6,
      "metadata": {
        "id": "WqRlO_elYuk6",
        "colab": {
          "base_uri": "https://localhost:8080/"
        },
        "outputId": "5855631e-b46e-417c-ed5e-fcb05fe2decc"
      },
      "outputs": [
        {
          "output_type": "stream",
          "name": "stdout",
          "text": [
            "Dimension of a: 1\n",
            "Dimension of b: 1\n",
            "Dimension of c: 1\n",
            "Dimension of d: 1\n"
          ]
        }
      ],
      "source": [
        "#print dimentions of a,b, c and d\n",
        "\n",
        "import numpy as np\n",
        "\n",
        "# Define numpy arrays\n",
        "a = np.array([1, 2, 3])\n",
        "b = np.array([4, 5, 6])\n",
        "c = np.array([7, 8, 9])\n",
        "d = np.array([10, 11, 12])\n",
        "\n",
        "# Print dimensions\n",
        "print(\"Dimension of a:\", a.ndim)\n",
        "print(\"Dimension of b:\", b.ndim)\n",
        "print(\"Dimension of c:\", c.ndim)\n",
        "print(\"Dimension of d:\", d.ndim)\n",
        "\n",
        "\n"
      ]
    },
    {
      "cell_type": "markdown",
      "metadata": {
        "id": "GdfDcthEYuk7"
      },
      "source": [
        "Hey hey. Did you see! you have created 0-D,1-DeprecationWarning, 2-D and 3-D arrays.\n",
        "\n",
        "Lets print there shape as well. You can check shape using shape attribute\n",
        "\n"
      ]
    },
    {
      "cell_type": "code",
      "execution_count": 7,
      "metadata": {
        "id": "Dbo7BMcNYuk8",
        "colab": {
          "base_uri": "https://localhost:8080/"
        },
        "outputId": "a0059e3f-ceef-4ea7-c825-b569bfb08a76"
      },
      "outputs": [
        {
          "output_type": "stream",
          "name": "stdout",
          "text": [
            "Shape of a: (3,)\n",
            "Shape of b: (3,)\n",
            "Shape of c: (3,)\n",
            "Shape of d: (3,)\n"
          ]
        }
      ],
      "source": [
        "# print shape of each a,b ,c and d\n",
        "import numpy as np\n",
        "\n",
        "# Define numpy arrays\n",
        "a = np.array([1, 2, 3])\n",
        "b = np.array([4, 5, 6])\n",
        "c = np.array([7, 8, 9])\n",
        "d = np.array([10, 11, 12])\n",
        "\n",
        "# Print shapes\n",
        "print(\"Shape of a:\", a.shape)\n",
        "print(\"Shape of b:\", b.shape)\n",
        "print(\"Shape of c:\", c.shape)\n",
        "print(\"Shape of d:\", d.shape)\n",
        "\n",
        "\n",
        "\n",
        "\n"
      ]
    },
    {
      "cell_type": "markdown",
      "metadata": {
        "id": "zznIHO2BYuk8"
      },
      "source": [
        "Lets check data type passed in our array. To check data type you can use dtype attribute"
      ]
    },
    {
      "cell_type": "code",
      "execution_count": 8,
      "metadata": {
        "id": "IqR87PE-Yuk9",
        "colab": {
          "base_uri": "https://localhost:8080/"
        },
        "outputId": "155adf98-775f-4167-8ffb-aa4eb8adffda"
      },
      "outputs": [
        {
          "output_type": "stream",
          "name": "stdout",
          "text": [
            "Data type of c: int64\n",
            "Data type of d: int64\n"
          ]
        }
      ],
      "source": [
        "# print data type of c and d\n",
        "import numpy as np\n",
        "\n",
        "# Define numpy arrays\n",
        "c = np.array([7, 8, 9])\n",
        "d = np.array([10, 11, 12])\n",
        "\n",
        "# Print data types\n",
        "print(\"Data type of c:\", c.dtype)\n",
        "print(\"Data type of d:\", d.dtype)\n",
        "\n",
        "\n",
        "\n"
      ]
    },
    {
      "cell_type": "markdown",
      "metadata": {
        "id": "bvZI9gIfYuk9"
      },
      "source": [
        "Above output mean our array is having int type elements in it."
      ]
    },
    {
      "cell_type": "markdown",
      "metadata": {
        "id": "JTIMcpHZYuk9"
      },
      "source": [
        "Lets check the type of our variable. To check type of any numpy variable use type() function"
      ]
    },
    {
      "cell_type": "code",
      "execution_count": 9,
      "metadata": {
        "id": "4XscrKR9Yuk9",
        "colab": {
          "base_uri": "https://localhost:8080/"
        },
        "outputId": "d35a5ae7-9c91-425a-84d7-0611bd869922"
      },
      "outputs": [
        {
          "output_type": "stream",
          "name": "stdout",
          "text": [
            "Data type of c: int64\n",
            "Data type of d: int64\n"
          ]
        }
      ],
      "source": [
        "# print data type of c and d\n",
        "import numpy as np\n",
        "\n",
        "# Define numpy arrays\n",
        "c = np.array([7, 8, 9])\n",
        "d = np.array([10, 11, 12])\n",
        "\n",
        "# Print data types\n",
        "print(\"Data type of c:\", c.dtype)\n",
        "print(\"Data type of d:\", d.dtype)\n",
        "\n",
        "\n",
        "\n",
        "\n",
        "\n"
      ]
    },
    {
      "cell_type": "code",
      "execution_count": 10,
      "metadata": {
        "id": "cmEidey1Yuk9",
        "colab": {
          "base_uri": "https://localhost:8080/"
        },
        "outputId": "06b9dd07-6e47-4a6b-eaf1-b3080571e058"
      },
      "outputs": [
        {
          "output_type": "stream",
          "name": "stdout",
          "text": [
            "Length of b: 3\n"
          ]
        }
      ],
      "source": [
        "# Lets check length of array b, using len() function\n",
        "# len(b)\n",
        "import numpy as np\n",
        "\n",
        "# Define numpy array\n",
        "b = np.array([4, 5, 6])\n",
        "\n",
        "# Check length\n",
        "print(\"Length of b:\", len(b))\n"
      ]
    },
    {
      "cell_type": "markdown",
      "metadata": {
        "id": "8k-sX7zmYuk-"
      },
      "source": [
        "Bravo!You have Defined ndarray i.e numpy array in variable a nd b. Also you have successfully learned how to create numpy."
      ]
    },
    {
      "cell_type": "code",
      "source": [],
      "metadata": {
        "id": "R4ylxj2I_Xra"
      },
      "execution_count": null,
      "outputs": []
    },
    {
      "cell_type": "markdown",
      "metadata": {
        "id": "bl8PwahHYuk-"
      },
      "source": [
        "Create two list l1 and l2 where, l1=[10,20,30] and l2=[40,50,60]\n",
        "Also define two numpy arrays l3,l4 where l3 has l1 as element and l4 has l2 as element\n"
      ]
    },
    {
      "cell_type": "code",
      "execution_count": 11,
      "metadata": {
        "id": "-cZT6aZlYuk-",
        "colab": {
          "base_uri": "https://localhost:8080/"
        },
        "outputId": "d851ffd9-9890-40b5-f38a-b4affc495076"
      },
      "outputs": [
        {
          "output_type": "stream",
          "name": "stdout",
          "text": [
            "l1: [1 2 3 4]\n",
            "l2: [5 6 7 8]\n",
            "l3: [ 9 10 11 12]\n",
            "l4: [13 14 15 16]\n"
          ]
        }
      ],
      "source": [
        "# Define l1,l2,l3 and l4 as stated above.\n",
        "# l1 =\n",
        "# l2 =\n",
        "# l3 =\n",
        "# l4 =\n",
        "import numpy as np\n",
        "\n",
        "# Define numpy arrays\n",
        "l1 = np.array([1, 2, 3, 4])\n",
        "l2 = np.array([5, 6, 7, 8])\n",
        "l3 = np.array([9, 10, 11, 12])\n",
        "l4 = np.array([13, 14, 15, 16])\n",
        "\n",
        "# Print arrays\n",
        "print(\"l1:\", l1)\n",
        "print(\"l2:\", l2)\n",
        "print(\"l3:\", l3)\n",
        "print(\"l4:\", l4)\n",
        "\n"
      ]
    },
    {
      "cell_type": "markdown",
      "metadata": {
        "id": "9muN0ZR5Yuk-"
      },
      "source": [
        "Lets multiply each elements of l1 with corresponding elements of l2\n",
        "\n",
        "Here use list comprehention to do so. Lets see how much you remember your work in other assignments.\n",
        "\n",
        "Note: use %timeit as prefix before your line of code inorder to calculate total time taken to run that line<br>\n",
        "eg. %timeit my_code"
      ]
    },
    {
      "cell_type": "code",
      "execution_count": 12,
      "metadata": {
        "id": "Gt0o_ZSCYuk_",
        "colab": {
          "base_uri": "https://localhost:8080/"
        },
        "outputId": "ab95f608-293c-4e6e-9753-9414a275b5e8"
      },
      "outputs": [
        {
          "output_type": "stream",
          "name": "stdout",
          "text": [
            "472 ns ± 6.49 ns per loop (mean ± std. dev. of 7 runs, 1000000 loops each)\n"
          ]
        }
      ],
      "source": [
        "#code here as instructed above\n",
        "\n",
        "import numpy as np\n",
        "\n",
        "# Define lists\n",
        "l1 = [1, 2, 3, 4]\n",
        "l2 = [5, 6, 7, 8]\n",
        "\n",
        "# Measure execution time using list comprehension\n",
        "%timeit [l1[i] * l2[i] for i in range(len(l1))]\n",
        "\n"
      ]
    },
    {
      "cell_type": "markdown",
      "metadata": {
        "id": "xT45pl-RYuk_"
      },
      "source": [
        "Lets mulptiply l3 and l4\n",
        "\n",
        "Note: use %timeit as prefix before your line of code inorder to calculate total time taken to run that line"
      ]
    },
    {
      "cell_type": "code",
      "execution_count": 13,
      "metadata": {
        "id": "SceA6IrwYuk_",
        "colab": {
          "base_uri": "https://localhost:8080/"
        },
        "outputId": "793817d0-b79d-4aa5-aaab-8d4f964377d9"
      },
      "outputs": [
        {
          "output_type": "stream",
          "name": "stdout",
          "text": [
            "472 ns ± 7.23 ns per loop (mean ± std. dev. of 7 runs, 1000000 loops each)\n"
          ]
        }
      ],
      "source": [
        "import numpy as np\n",
        "\n",
        "# Define lists\n",
        "l3 = [9, 10, 11, 12]\n",
        "l4 = [13, 14, 15, 16]\n",
        "\n",
        "# Measure execution time using list comprehension\n",
        "%timeit [l3[i] * l4[i] for i in range(len(l3))]\n",
        "\n",
        "\n"
      ]
    },
    {
      "cell_type": "markdown",
      "metadata": {
        "id": "CJrqooYWYuk_"
      },
      "source": [
        "Don't worry if still your one line of code is running. Its because your system is calculating total time taken to run your code.\n",
        "\n",
        "Did you notice buddy! time taken to multiply two lists takes more time than multiplyimg two numpy array.\n",
        "Hence proved that numpy arrays are faster than lists.\n",
        "\n",
        "**Fun Fact time!:**\n",
        "\n",
        "You know in many data science interviews it is asked that what is the difference between list and array.<br>\n"
      ]
    },
    {
      "cell_type": "code",
      "execution_count": 14,
      "metadata": {
        "id": "BnwTOtdDYulA",
        "colab": {
          "base_uri": "https://localhost:8080/"
        },
        "outputId": "c70835e5-44b0-43ac-ad1f-d63b43ee4d1b"
      },
      "outputs": [
        {
          "output_type": "stream",
          "name": "stdout",
          "text": [
            "[ 1  2  3  4  5  6  7  8  9 10]\n"
          ]
        }
      ],
      "source": [
        "#Create a numpy array using arange with 1 and 11 as parameter in it\n",
        "\n",
        "\n",
        "import numpy as np\n",
        "\n",
        "# Create numpy array using arange\n",
        "arr = np.arange(1, 11)\n",
        "\n",
        "# Print the array\n",
        "print(arr)\n"
      ]
    },
    {
      "cell_type": "markdown",
      "metadata": {
        "id": "QiuRfP4OYulA"
      },
      "source": [
        "This means using arrange we get evenly spaced values within a given interval. Interval? Yes you can mention interval as well as third parameter in it."
      ]
    },
    {
      "cell_type": "code",
      "execution_count": 15,
      "metadata": {
        "id": "TDdTXBZcYulA",
        "colab": {
          "base_uri": "https://localhost:8080/"
        },
        "outputId": "f391e204-7abd-426d-9cba-0f9a01da3559"
      },
      "outputs": [
        {
          "output_type": "stream",
          "name": "stdout",
          "text": [
            "[1 3 5 7 9]\n"
          ]
        }
      ],
      "source": [
        "# Create an array using arange passing 1,11 and 2 as parameter in iter\n",
        "import numpy as np\n",
        "\n",
        "# Create numpy array using arange with step size 2\n",
        "arr = np.arange(1, 11, 2)\n",
        "\n",
        "# Print the array\n",
        "print(arr)\n",
        "\n",
        "\n"
      ]
    },
    {
      "cell_type": "code",
      "execution_count": 16,
      "metadata": {
        "id": "IFYEePpeYulA",
        "colab": {
          "base_uri": "https://localhost:8080/"
        },
        "outputId": "484c2b84-9a0c-4ef8-9941-c15bdeb2fdfe"
      },
      "outputs": [
        {
          "output_type": "stream",
          "name": "stdout",
          "text": [
            "[[1. 0. 0.]\n",
            " [0. 1. 0.]\n",
            " [0. 0. 1.]]\n"
          ]
        }
      ],
      "source": [
        "# create numpy array using eye function with 3 as passed parameter\n",
        "import numpy as np\n",
        "\n",
        "# Create a 3x3 identity matrix\n",
        "arr = np.eye(3)\n",
        "\n",
        "# Print the array\n",
        "print(arr)\n",
        "\n",
        "\n",
        "\n"
      ]
    },
    {
      "cell_type": "code",
      "execution_count": 17,
      "metadata": {
        "id": "rXpUyqTYYulD",
        "colab": {
          "base_uri": "https://localhost:8080/"
        },
        "outputId": "8f1c050b-fcf5-4eec-ed2c-42e440c9c8d7"
      },
      "outputs": [
        {
          "output_type": "stream",
          "name": "stdout",
          "text": [
            "[ 1  2  3  4  5  6  7  8  9 10 11 12 13 14 15 16]\n"
          ]
        }
      ],
      "source": [
        "# Using arange() to generate numpy array x with numbers between 1 to 16\n",
        "# x=\n",
        "\n",
        "import numpy as np\n",
        "\n",
        "# Create numpy array x with numbers from 1 to 16\n",
        "x = np.arange(1, 17)\n",
        "\n",
        "# Print the array\n",
        "print(x)\n"
      ]
    },
    {
      "cell_type": "code",
      "execution_count": 18,
      "metadata": {
        "id": "JkQG8RyFYulE",
        "colab": {
          "base_uri": "https://localhost:8080/"
        },
        "outputId": "08446293-e9a8-4f69-a53d-eba98882f145"
      },
      "outputs": [
        {
          "output_type": "stream",
          "name": "stdout",
          "text": [
            "[[ 1  2  3  4  5  6  7  8]\n",
            " [ 9 10 11 12 13 14 15 16]]\n"
          ]
        }
      ],
      "source": [
        "import numpy as np\n",
        "\n",
        "# Create numpy array x\n",
        "x = np.arange(1, 17)\n",
        "\n",
        "# Reshape x into 2 rows and 8 columns\n",
        "x_reshaped = x.reshape(2, 8)\n",
        "\n",
        "# Print the reshaped array\n",
        "print(x_reshaped)\n",
        "\n"
      ]
    },
    {
      "cell_type": "markdown",
      "metadata": {
        "id": "Eu-DgBCRYulE"
      },
      "source": [
        "As you can see above that our x changed into 2D matrix\n",
        "\n",
        "2. Reshaping 1-D to 3-D array\n"
      ]
    },
    {
      "cell_type": "code",
      "execution_count": 19,
      "metadata": {
        "id": "Ue760dxYYulE",
        "colab": {
          "base_uri": "https://localhost:8080/"
        },
        "outputId": "11d3d8e0-22b3-477e-83d6-121639c57938"
      },
      "outputs": [
        {
          "output_type": "stream",
          "name": "stdout",
          "text": [
            "[[[ 1  2]\n",
            "  [ 3  4]\n",
            "  [ 5  6]\n",
            "  [ 7  8]]\n",
            "\n",
            " [[ 9 10]\n",
            "  [11 12]\n",
            "  [13 14]\n",
            "  [15 16]]]\n"
          ]
        }
      ],
      "source": [
        "# reshaoe x with dimension that will have 2 arrays that contains 4 arrays, each with 2 elements:\n",
        "import numpy as np\n",
        "\n",
        "# Create numpy array x\n",
        "x = np.arange(1, 17)\n",
        "\n",
        "# Reshape x into (2, 4, 2)\n",
        "x_reshaped = x.reshape(2, 4, 2)\n",
        "\n",
        "# Print the reshaped array\n",
        "print(x_reshaped)\n",
        "\n",
        "\n"
      ]
    },
    {
      "cell_type": "code",
      "execution_count": 20,
      "metadata": {
        "id": "xlfI-eC2YulE",
        "colab": {
          "base_uri": "https://localhost:8080/"
        },
        "outputId": "934893e0-e334-4556-bcaf-ea3ec2009332"
      },
      "outputs": [
        {
          "output_type": "stream",
          "name": "stdout",
          "text": [
            "[[ 1  2  3  4]\n",
            " [ 5  6  7  8]\n",
            " [ 9 10 11 12]\n",
            " [13 14 15 16]]\n"
          ]
        }
      ],
      "source": [
        "# Use unknown dimention to reshape x into 2-D numpy array with shape 4*4\n",
        "\n",
        "import numpy as np\n",
        "\n",
        "# Create numpy array x\n",
        "x = np.arange(1, 17)\n",
        "\n",
        "# Reshape x into a 4×4 matrix using an unknown dimension\n",
        "x_reshaped = x.reshape(4, -1)\n",
        "\n",
        "# Print the reshaped array\n",
        "print(x_reshaped)\n",
        "\n"
      ]
    },
    {
      "cell_type": "code",
      "execution_count": 21,
      "metadata": {
        "id": "NDRDRGkUYulE",
        "colab": {
          "base_uri": "https://localhost:8080/"
        },
        "outputId": "7fce62c8-d371-42ee-fa96-4ff465f2898e"
      },
      "outputs": [
        {
          "output_type": "stream",
          "name": "stdout",
          "text": [
            "[[[ 1  2]\n",
            "  [ 3  4]\n",
            "  [ 5  6]\n",
            "  [ 7  8]]\n",
            "\n",
            " [[ 9 10]\n",
            "  [11 12]\n",
            "  [13 14]\n",
            "  [15 16]]]\n"
          ]
        }
      ],
      "source": [
        "# Use unknown dimention to  reshape x into 3-D numpy array with 2 arrays that contains 4 arrays\n",
        "# y=\n",
        "\n",
        "\n",
        "# print y\n",
        "import numpy as np\n",
        "\n",
        "# Create numpy array x\n",
        "x = np.arange(1, 17)\n",
        "\n",
        "# Reshape x into a 3D array with 2 arrays containing 4 arrays each\n",
        "y = x.reshape(2, 4, -1)\n",
        "\n",
        "# Print the reshaped array\n",
        "print(y)\n",
        "\n"
      ]
    },
    {
      "cell_type": "code",
      "execution_count": 22,
      "metadata": {
        "id": "iHuEimtTYulF",
        "colab": {
          "base_uri": "https://localhost:8080/"
        },
        "outputId": "8d98ef5d-992e-494c-cb0d-e9f4a22ff9d5"
      },
      "outputs": [
        {
          "output_type": "stream",
          "name": "stdout",
          "text": [
            "[ 1  2  3  4  5  6  7  8  9 10 11 12 13 14 15 16]\n"
          ]
        }
      ],
      "source": [
        "# Flattening y\n",
        "import numpy as np\n",
        "\n",
        "# Create numpy array x\n",
        "x = np.arange(1, 17)\n",
        "\n",
        "# Reshape x into a 3D array\n",
        "y = x.reshape(2, 4, -1)\n",
        "\n",
        "# Flatten y\n",
        "y_flattened = y.flatten()\n",
        "\n",
        "# Print the flattened array\n",
        "print(y_flattened)\n",
        "\n",
        "\n"
      ]
    },
    {
      "cell_type": "code",
      "execution_count": 23,
      "metadata": {
        "id": "GysmjjOQYulF",
        "colab": {
          "base_uri": "https://localhost:8080/"
        },
        "outputId": "b36e7245-c01d-4aa8-d779-976127a6c61e"
      },
      "outputs": [
        {
          "output_type": "stream",
          "name": "stdout",
          "text": [
            "Third element of a: 3\n"
          ]
        }
      ],
      "source": [
        "# Get third element in array a\n",
        "import numpy as np\n",
        "\n",
        "# Define numpy array a\n",
        "a = np.array([1, 2, 3, 4, 5])\n",
        "\n",
        "# Get the third element (index 2)\n",
        "third_element = a[2]\n",
        "\n",
        "# Print the third element\n",
        "print(\"Third element of a:\", third_element)\n"
      ]
    },
    {
      "cell_type": "code",
      "execution_count": 24,
      "metadata": {
        "id": "QJDw7E2VYulF",
        "colab": {
          "base_uri": "https://localhost:8080/"
        },
        "outputId": "ddd95b24-2a79-4e24-c819-d427459e06c1"
      },
      "outputs": [
        {
          "output_type": "stream",
          "name": "stdout",
          "text": [
            "3rd, 5th, and 7th elements: [3 5 7]\n"
          ]
        }
      ],
      "source": [
        "#Print 3rd, 5th, and 7th element in array a\n",
        "\n",
        "import numpy as np\n",
        "\n",
        "# Define numpy array a\n",
        "a = np.array([1, 2, 3, 4, 5, 6, 7, 8, 9])\n",
        "\n",
        "# Get the 3rd, 5th, and 7th elements (indices 2, 4, and 6)\n",
        "selected_elements = a[[2, 4, 6]]\n",
        "\n",
        "# Print the selected elements\n",
        "print(\"3rd, 5th, and 7th elements:\", selected_elements)\n",
        "\n"
      ]
    },
    {
      "cell_type": "markdown",
      "metadata": {
        "id": "6FauyJCQYulF"
      },
      "source": [
        "Lets check the same for 2 D array"
      ]
    },
    {
      "cell_type": "code",
      "execution_count": 25,
      "metadata": {
        "id": "yomRzY6aYulF",
        "colab": {
          "base_uri": "https://localhost:8080/"
        },
        "outputId": "7a8f357a-d04d-4a76-d29b-c04f8865fac8"
      },
      "outputs": [
        {
          "output_type": "stream",
          "name": "stdout",
          "text": [
            "[[1 2 3]\n",
            " [4 5 6]\n",
            " [7 8 9]]\n"
          ]
        }
      ],
      "source": [
        "# Define an array 2-D a with [[1,2,3],[4,5,6],[7,8,9]] as its elements.\n",
        "# a =\n",
        "import numpy as np\n",
        "\n",
        "# Define 2D numpy array a\n",
        "a = np.array([[1, 2, 3],\n",
        "              [4, 5, 6],\n",
        "              [7, 8, 9]])\n",
        "\n",
        "# Print the array\n",
        "print(a)\n",
        "\n"
      ]
    },
    {
      "cell_type": "code",
      "execution_count": 26,
      "metadata": {
        "id": "VTGpLidrYulF",
        "colab": {
          "base_uri": "https://localhost:8080/"
        },
        "outputId": "4c4d159b-1065-4b8d-906d-2a75a44ac9a4"
      },
      "outputs": [
        {
          "output_type": "stream",
          "name": "stdout",
          "text": [
            "3rd element from the 3rd row: 9\n"
          ]
        }
      ],
      "source": [
        "# print the 3rd element from the 3rd row of a\n",
        "import numpy as np\n",
        "\n",
        "# Define 2D numpy array a\n",
        "a = np.array([[1, 2, 3],\n",
        "              [4, 5, 6],\n",
        "              [7, 8, 9]])\n",
        "\n",
        "# Get the 3rd element from the 3rd row (row index 2, column index 2)\n",
        "third_element = a[2, 2]\n",
        "\n",
        "# Print the result\n",
        "print(\"3rd element from the 3rd row:\", third_element)\n",
        "\n"
      ]
    },
    {
      "cell_type": "markdown",
      "metadata": {
        "id": "-fPw_4ZBYulF"
      },
      "source": [
        "Well done!\n",
        "\n",
        "Now lets check indexing for 3 D array"
      ]
    },
    {
      "cell_type": "code",
      "execution_count": 27,
      "metadata": {
        "id": "VISPaw3PYulG",
        "colab": {
          "base_uri": "https://localhost:8080/"
        },
        "outputId": "c4258a8e-2d83-4057-b53f-2eec258d9b61"
      },
      "outputs": [
        {
          "output_type": "stream",
          "name": "stdout",
          "text": [
            "[[[ 1  2  3]\n",
            "  [ 4  5  6]]\n",
            "\n",
            " [[ 7  8  9]\n",
            "  [10 11 12]]]\n"
          ]
        }
      ],
      "source": [
        "# Define an array b again with [[[1, 2, 3], [4, 5, 6]], [[7, 8, 9], [10, 11, 12]]] as its elements.\n",
        "# b =\n",
        "import numpy as np\n",
        "\n",
        "# Define 3D numpy array b\n",
        "b = np.array([[[1, 2, 3], [4, 5, 6]],\n",
        "              [[7, 8, 9], [10, 11, 12]]])\n",
        "\n",
        "# Print the array\n",
        "print(b)\n",
        "\n",
        "\n"
      ]
    },
    {
      "cell_type": "code",
      "execution_count": 28,
      "metadata": {
        "id": "UrFj656mYulG",
        "colab": {
          "base_uri": "https://localhost:8080/"
        },
        "outputId": "8a0c02d9-398c-483d-9c25-cc7d1f757951"
      },
      "outputs": [
        {
          "output_type": "stream",
          "name": "stdout",
          "text": [
            "3rd element from the 2nd list (1st list in nested structure): 6\n"
          ]
        }
      ],
      "source": [
        "# Print 3rd element from 2nd list which is 1st list in nested list passed. Confusing right? 'a' have nested array.Understand the braket differences.\n",
        "\n",
        "import numpy as np\n",
        "\n",
        "# Define 2D numpy array a\n",
        "a = np.array([[1, 2, 3],\n",
        "              [4, 5, 6],\n",
        "              [7, 8, 9]])\n",
        "\n",
        "# Extracting the 3rd element from the 2nd list (which is the 1st list in the nested structure)\n",
        "element = a[1, 2]\n",
        "\n",
        "# Print the result\n",
        "print(\"3rd element from the 2nd list (1st list in nested structure):\", element)\n",
        "\n"
      ]
    },
    {
      "cell_type": "code",
      "execution_count": 29,
      "metadata": {
        "id": "9ZadW42fYulG",
        "colab": {
          "base_uri": "https://localhost:8080/"
        },
        "outputId": "0bd96fda-93b1-432d-feea-697a786ad123"
      },
      "outputs": [
        {
          "output_type": "stream",
          "name": "stdout",
          "text": [
            "[1 2 3 4 5]\n"
          ]
        }
      ],
      "source": [
        "# Create 1D array\n",
        "\n",
        "# arr=\n",
        "\n",
        "\n",
        "import numpy as np\n",
        "\n",
        "# Create a 1D numpy array\n",
        "arr = np.array([1, 2, 3, 4, 5])\n",
        "\n",
        "# Print the array\n",
        "print(arr)\n"
      ]
    },
    {
      "cell_type": "code",
      "execution_count": 30,
      "metadata": {
        "id": "fm2dtL6EYulG",
        "colab": {
          "base_uri": "https://localhost:8080/"
        },
        "outputId": "a99fb75a-7d38-4401-ea7f-e904845b7d9a"
      },
      "outputs": [
        {
          "output_type": "stream",
          "name": "stdout",
          "text": [
            "Sliced elements (1st to 5th): [10 20 30 40 50]\n"
          ]
        }
      ],
      "source": [
        "# Slice elements from 1st to 5th element from the following array:\n",
        "\n",
        "import numpy as np\n",
        "\n",
        "# Define a sample 1D array\n",
        "arr = np.array([10, 20, 30, 40, 50, 60, 70, 80, 90])\n",
        "\n",
        "# Slice elements from 1st to 5th (index 0 to 4)\n",
        "sliced_arr = arr[0:5]\n",
        "\n",
        "# Print the sliced array\n",
        "print(\"Sliced elements (1st to 5th):\", sliced_arr)\n",
        "\n",
        "\n"
      ]
    },
    {
      "cell_type": "markdown",
      "metadata": {
        "id": "ghqluYgMYulG"
      },
      "source": [
        "Note: The result includes the start index, but excludes the end index.\n",
        "\n"
      ]
    },
    {
      "cell_type": "code",
      "execution_count": 31,
      "metadata": {
        "id": "g4uVBo1oYulH",
        "colab": {
          "base_uri": "https://localhost:8080/"
        },
        "outputId": "92ed980a-c776-484e-98c5-977860f69c52"
      },
      "outputs": [
        {
          "output_type": "stream",
          "name": "stdout",
          "text": [
            "Sliced elements (index 5 to end): [60 70 80 90]\n"
          ]
        }
      ],
      "source": [
        "# Slice elements from index 5 to the end of the array:\n",
        "import numpy as np\n",
        "\n",
        "# Define a sample 1D array\n",
        "arr = np.array([10, 20, 30, 40, 50, 60, 70, 80, 90])\n",
        "\n",
        "# Slice elements from index 5 to the end\n",
        "sliced_arr = arr[5:]\n",
        "\n",
        "# Print the sliced array\n",
        "print(\"Sliced elements (index 5 to end):\", sliced_arr)\n",
        "\n",
        "\n",
        "\n"
      ]
    },
    {
      "cell_type": "code",
      "execution_count": 32,
      "metadata": {
        "id": "1t4V3OSaYulH",
        "colab": {
          "base_uri": "https://localhost:8080/"
        },
        "outputId": "4e288de6-6aa2-4bb6-f9ce-81b16d663bc7"
      },
      "outputs": [
        {
          "output_type": "stream",
          "name": "stdout",
          "text": [
            "Sliced elements (beginning to index 5, not included): [10 20 30 40 50]\n"
          ]
        }
      ],
      "source": [
        "# Slice elements from the beginning to index 5 (not included):\n",
        "import numpy as np\n",
        "\n",
        "# Define a sample 1D array\n",
        "arr = np.array([10, 20, 30, 40, 50, 60, 70, 80, 90])\n",
        "\n",
        "# Slice elements from the beginning to index 5 (not included)\n",
        "sliced_arr = arr[:5]\n",
        "\n",
        "# Print the sliced array\n",
        "print(\"Sliced elements (beginning to index 5, not included):\", sliced_arr)\n",
        "\n",
        "\n",
        "\n"
      ]
    },
    {
      "cell_type": "markdown",
      "metadata": {
        "id": "_sk9yNamYulH"
      },
      "source": [
        "**STEP**\n",
        "\n",
        "Use the step value to determine the step of the slicing:"
      ]
    },
    {
      "cell_type": "code",
      "execution_count": 33,
      "metadata": {
        "id": "1OXANncfYulH",
        "colab": {
          "base_uri": "https://localhost:8080/"
        },
        "outputId": "a9f8a2c1-08fc-4a6a-a709-21fc1ab06852"
      },
      "outputs": [
        {
          "output_type": "stream",
          "name": "stdout",
          "text": [
            "Every other element from index 1 to 7: [20 40 60 80]\n"
          ]
        }
      ],
      "source": [
        "# Print every other element from index 1 to index 7:\n",
        "\n",
        "import numpy as np\n",
        "\n",
        "# Define a sample 1D array\n",
        "arr = np.array([10, 20, 30, 40, 50, 60, 70, 80, 90])\n",
        "\n",
        "# Slice every other element from index 1 to index 7\n",
        "sliced_arr = arr[1:8:2]\n",
        "\n",
        "# Print the sliced array\n",
        "print(\"Every other element from index 1 to 7:\", sliced_arr)\n",
        "\n"
      ]
    },
    {
      "cell_type": "markdown",
      "metadata": {
        "id": "mpk1-Nd2YulH"
      },
      "source": [
        "Did you see? using step you were able to get alternate elements within specified index numbers."
      ]
    },
    {
      "cell_type": "code",
      "execution_count": 34,
      "metadata": {
        "id": "HxPLcXudYulH",
        "colab": {
          "base_uri": "https://localhost:8080/"
        },
        "outputId": "7d1e3bfa-5f8a-4be5-de60-25d0711b915d"
      },
      "outputs": [
        {
          "output_type": "stream",
          "name": "stdout",
          "text": [
            "Every other element from the entire array: [10 30 50 70 90]\n"
          ]
        }
      ],
      "source": [
        "# Return every other element from the entire array arr:\n",
        "import numpy as np\n",
        "\n",
        "# Define a sample 1D array\n",
        "arr = np.array([10, 20, 30, 40, 50, 60, 70, 80, 90])\n",
        "\n",
        "# Slice every other element from the entire array\n",
        "sliced_arr = arr[::2]\n",
        "\n",
        "# Print the result\n",
        "print(\"Every other element from the entire array:\", sliced_arr)\n",
        "\n",
        "\n"
      ]
    },
    {
      "cell_type": "markdown",
      "metadata": {
        "id": "d3m3TAVKYulH"
      },
      "source": [
        "well done!\n",
        "\n",
        "Lets do some slicing on 2-D array also. We already have 'a' as our 2-D array. We will use it here.\n",
        "\n",
        "**Array slicing in 2-D array.**"
      ]
    },
    {
      "cell_type": "code",
      "execution_count": 35,
      "metadata": {
        "id": "rPVvZ707YulI",
        "colab": {
          "base_uri": "https://localhost:8080/"
        },
        "outputId": "cb0d7c85-c9b6-487e-ba93-3ab0028fdd30"
      },
      "outputs": [
        {
          "output_type": "stream",
          "name": "stdout",
          "text": [
            "[[1 2 3]\n",
            " [4 5 6]\n",
            " [7 8 9]]\n"
          ]
        }
      ],
      "source": [
        "# Print array a\n",
        "print(a)\n",
        "\n"
      ]
    },
    {
      "cell_type": "code",
      "execution_count": 36,
      "metadata": {
        "id": "uGHClMHiYulI",
        "colab": {
          "base_uri": "https://localhost:8080/"
        },
        "outputId": "f8ec224d-3b1f-4780-f452-5f3be502258b"
      },
      "outputs": [
        {
          "output_type": "stream",
          "name": "stdout",
          "text": [
            "Sliced elements: [14 15 16 17]\n"
          ]
        }
      ],
      "source": [
        "# From the third element, slice elements from index 1 to index 5 (not included) from array 'a'\n",
        "\n",
        "import numpy as np\n",
        "\n",
        "# Define 2D numpy array a\n",
        "a = np.array([[1, 2, 3, 4, 5, 6],\n",
        "              [7, 8, 9, 10, 11, 12],\n",
        "              [13, 14, 15, 16, 17, 18]])\n",
        "\n",
        "# Slice from the third row (index 2), elements from index 1 to 5 (not included)\n",
        "sliced_elements = a[2, 1:5]\n",
        "\n",
        "# Print the result\n",
        "print(\"Sliced elements:\", sliced_elements)\n",
        "\n"
      ]
    },
    {
      "cell_type": "code",
      "execution_count": 37,
      "metadata": {
        "id": "mApmbts7YulI",
        "colab": {
          "base_uri": "https://localhost:8080/"
        },
        "outputId": "0f4d2e7c-85f0-4b3f-854d-b18e5298493c"
      },
      "outputs": [
        {
          "output_type": "stream",
          "name": "stdout",
          "text": [
            "Index 2 from all elements: [ 3  9 15]\n"
          ]
        }
      ],
      "source": [
        "# In array 'a' print index 2 from all the elements :\n",
        "import numpy as np\n",
        "\n",
        "# Define 2D numpy array a\n",
        "a = np.array([[1, 2, 3, 4, 5, 6],\n",
        "              [7, 8, 9, 10, 11, 12],\n",
        "              [13, 14, 15, 16, 17, 18]])\n",
        "\n",
        "# Extract index 2 (third column) from all rows\n",
        "column_at_index_2 = a[:, 2]\n",
        "\n",
        "# Print the result\n",
        "print(\"Index 2 from all elements:\", column_at_index_2)\n",
        "\n",
        "\n",
        "\n"
      ]
    },
    {
      "cell_type": "code",
      "execution_count": 38,
      "metadata": {
        "id": "XupmT4oLYulI",
        "colab": {
          "base_uri": "https://localhost:8080/"
        },
        "outputId": "48052e0b-d7e4-4581-9ee8-fb300ecb2db2"
      },
      "outputs": [
        {
          "output_type": "stream",
          "name": "stdout",
          "text": [
            "Sliced array from index 1 till end:\n",
            " [[ 2  3  4  5  6]\n",
            " [ 8  9 10 11 12]\n",
            " [14 15 16 17 18]]\n"
          ]
        }
      ],
      "source": [
        "# From all the elements in 'a', slice index 1 till end, this will return a 2-D array:\n",
        "import numpy as np\n",
        "\n",
        "# Define 2D numpy array a\n",
        "a = np.array([[1, 2, 3, 4, 5, 6],\n",
        "              [7, 8, 9, 10, 11, 12],\n",
        "              [13, 14, 15, 16, 17, 18]])\n",
        "\n",
        "# Slice from index 1 till the end (for all rows)\n",
        "sliced_array = a[:, 1:]\n",
        "\n",
        "# Print the result\n",
        "print(\"Sliced array from index 1 till end:\\n\", sliced_array)\n",
        "\n",
        "\n",
        "\n"
      ]
    },
    {
      "cell_type": "markdown",
      "metadata": {
        "id": "3-YDc-LnYulI"
      },
      "source": [
        "Hurray! You have learned Slicing in Numpy array. Now you know to access any numpy array."
      ]
    },
    {
      "cell_type": "markdown",
      "metadata": {
        "id": "kCiQoJ7DYulI"
      },
      "source": [
        "## Numpy copy vs view"
      ]
    },
    {
      "cell_type": "code",
      "execution_count": 39,
      "metadata": {
        "id": "qMAPlnpnYulI",
        "colab": {
          "base_uri": "https://localhost:8080/"
        },
        "outputId": "51ccb157-8132-4d08-fe0b-a9b287fedb6c"
      },
      "outputs": [
        {
          "output_type": "stream",
          "name": "stdout",
          "text": [
            "Original x1: [10 88 30 40]\n",
            "Copy of x1: [99 20 30 40]\n",
            "View of x1: [10 88 30 40]\n"
          ]
        }
      ],
      "source": [
        "# x1=\n",
        "import numpy as np\n",
        "\n",
        "# Create an array\n",
        "x1 = np.array([10, 20, 30, 40])\n",
        "\n",
        "# Create a copy\n",
        "copy_x1 = x1.copy()\n",
        "\n",
        "# Create a view\n",
        "view_x1 = x1.view()\n",
        "\n",
        "# Modify the copied array\n",
        "copy_x1[0] = 99  # This won't affect the original array\n",
        "\n",
        "# Modify the viewed array\n",
        "view_x1[1] = 88  # This will affect the original array\n",
        "\n",
        "# Print all arrays\n",
        "print(\"Original x1:\", x1)          # [10 88 30 40] (changed due to view)\n",
        "print(\"Copy of x1:\", copy_x1)      # [99 20 30 40] (unchanged original)\n",
        "print(\"View of x1:\", view_x1)      # [10 88 30 40] (same as original)\n",
        "\n"
      ]
    },
    {
      "cell_type": "code",
      "execution_count": 40,
      "metadata": {
        "id": "Fjjpvmw4YulI",
        "colab": {
          "base_uri": "https://localhost:8080/"
        },
        "outputId": "699ff1c4-ed42-4e69-ba87-7086b89d6c89"
      },
      "outputs": [
        {
          "output_type": "stream",
          "name": "stdout",
          "text": [
            "x1 after modifying x2: [99 20 30 40]\n",
            "x2: [99 20 30 40]\n"
          ]
        }
      ],
      "source": [
        "# assign x2 = x1\n",
        "import numpy as np\n",
        "\n",
        "# Create an array\n",
        "x1 = np.array([10, 20, 30, 40])\n",
        "\n",
        "# Assign x2 to x1 (this does NOT create a new array, just a reference)\n",
        "x2 = x1\n",
        "\n",
        "# Modify x2\n",
        "x2[0] = 99\n",
        "\n",
        "# Print arrays\n",
        "print(\"x1 after modifying x2:\", x1)  # [99 20 30 40] (changed!)\n",
        "print(\"x2:\", x2)                     # [99 20 30 40] (same as x1)\n",
        "\n"
      ]
    },
    {
      "cell_type": "code",
      "execution_count": 41,
      "metadata": {
        "id": "CZ8h9KxSYulI",
        "colab": {
          "base_uri": "https://localhost:8080/"
        },
        "outputId": "dfd9b747-8ba8-4082-c2ab-629b76061571"
      },
      "outputs": [
        {
          "output_type": "stream",
          "name": "stdout",
          "text": [
            "x1: [10 20 30 40]\n",
            "x2: [10 20 30 40]\n"
          ]
        }
      ],
      "source": [
        "#print x1 and x2\n",
        "\n",
        "import numpy as np\n",
        "\n",
        "# Create an array\n",
        "x1 = np.array([10, 20, 30, 40])\n",
        "\n",
        "# Assign x2 to x1 (they share the same memory)\n",
        "x2 = x1\n",
        "\n",
        "# Print both arrays\n",
        "print(\"x1:\", x1)\n",
        "print(\"x2:\", x2)\n",
        "\n"
      ]
    },
    {
      "cell_type": "markdown",
      "metadata": {
        "id": "CAOn1lSVYulI"
      },
      "source": [
        "Ok now you have seen that both of them are same"
      ]
    },
    {
      "cell_type": "code",
      "execution_count": 42,
      "metadata": {
        "id": "H12TCKrSYulJ",
        "colab": {
          "base_uri": "https://localhost:8080/"
        },
        "outputId": "527df648-b9f6-4d10-cf02-b292efa3e684"
      },
      "outputs": [
        {
          "output_type": "stream",
          "name": "stdout",
          "text": [
            "x1: [10 20 30 40]\n",
            "x2: [10 20 30 40]\n"
          ]
        }
      ],
      "source": [
        "# change 1st element of x2 as 10\n",
        "\n",
        "import numpy as np\n",
        "\n",
        "# Create an array\n",
        "x1 = np.array([99, 20, 30, 40])\n",
        "\n",
        "# Assign x2 to x1 (both share the same memory)\n",
        "x2 = x1\n",
        "\n",
        "# Change the 1st element of x2 to 10\n",
        "x2[0] = 10\n",
        "\n",
        "# Print both arrays\n",
        "print(\"x1:\", x1)  # [10 20 30 40] (changed!)\n",
        "print(\"x2:\", x2)  # [10 20 30 40] (same as x1)\n",
        "\n"
      ]
    },
    {
      "cell_type": "code",
      "execution_count": 43,
      "metadata": {
        "id": "jO5qSqZVYulJ",
        "colab": {
          "base_uri": "https://localhost:8080/"
        },
        "outputId": "85bc3e38-6416-4718-fc5d-f7a77e6ce224"
      },
      "outputs": [
        {
          "output_type": "stream",
          "name": "stdout",
          "text": [
            "x1: [10 20 30 40]\n",
            "x2: [10 20 30 40]\n"
          ]
        }
      ],
      "source": [
        "#Again print x1 and x2\n",
        "import numpy as np\n",
        "\n",
        "# Create an array\n",
        "x1 = np.array([99, 20, 30, 40])\n",
        "\n",
        "# Assign x2 to x1 (they share the same memory)\n",
        "x2 = x1\n",
        "\n",
        "# Modify the 1st element of x2\n",
        "x2[0] = 10\n",
        "\n",
        "# Print both arrays again\n",
        "print(\"x1:\", x1)  # [10 20 30 40] (changed!)\n",
        "print(\"x2:\", x2)  # [10 20 30 40] (same as x1)\n",
        "\n",
        "\n",
        "\n",
        "\n"
      ]
    },
    {
      "cell_type": "code",
      "execution_count": 44,
      "metadata": {
        "id": "wruaMhObYulJ",
        "colab": {
          "base_uri": "https://localhost:8080/"
        },
        "outputId": "20f06ebe-a7d7-40a3-9117-2ad4eddd893c"
      },
      "outputs": [
        {
          "output_type": "stream",
          "name": "stdout",
          "text": [
            "Do x1 and x2 share memory? True\n",
            "Do x1 and x2 share memory? True\n"
          ]
        }
      ],
      "source": [
        "# Check memory share between x1 and x2\n",
        "import numpy as np\n",
        "\n",
        "# Create an array\n",
        "x1 = np.array([99, 20, 30, 40])\n",
        "\n",
        "# Assign x2 to x1 (both reference the same memory)\n",
        "x2 = x1\n",
        "\n",
        "# Check if x1 and x2 share memory\n",
        "print(\"Do x1 and x2 share memory?\", np.may_share_memory(x1, x2))  # True\n",
        "print(\"Do x1 and x2 share memory?\", np.shares_memory(x1, x2))  # True\n",
        "\n"
      ]
    },
    {
      "cell_type": "markdown",
      "metadata": {
        "id": "8FfiAWw_YulJ"
      },
      "source": [
        "Hey It's True they both share memory\n",
        "\n",
        "Shall we try **view()** function also likwise."
      ]
    },
    {
      "cell_type": "code",
      "execution_count": 45,
      "metadata": {
        "id": "ylweEJUtYulJ",
        "colab": {
          "base_uri": "https://localhost:8080/"
        },
        "outputId": "17864bb9-6c54-4f22-bc0f-2000167b84a2"
      },
      "outputs": [
        {
          "output_type": "stream",
          "name": "stdout",
          "text": [
            "x1: [99 20 30 40]\n",
            "x3 (view of x1): [99 20 30 40]\n"
          ]
        }
      ],
      "source": [
        "# Create a view of x1 and store it in x3.\n",
        "# x3 =\n",
        "import numpy as np\n",
        "\n",
        "# Create an array\n",
        "x1 = np.array([99, 20, 30, 40])\n",
        "\n",
        "# Create a view of x1\n",
        "x3 = x1.view()\n",
        "\n",
        "# Print both arrays\n",
        "print(\"x1:\", x1)\n",
        "print(\"x3 (view of x1):\", x3)\n",
        "\n"
      ]
    },
    {
      "cell_type": "code",
      "execution_count": 46,
      "metadata": {
        "id": "La-iF23VYulJ",
        "colab": {
          "base_uri": "https://localhost:8080/"
        },
        "outputId": "825bc075-f67a-4342-c9fa-699a4079b294"
      },
      "outputs": [
        {
          "output_type": "stream",
          "name": "stdout",
          "text": [
            "Do x1 and x3 share memory? True\n"
          ]
        }
      ],
      "source": [
        "# Again check memory share between x1 and x3\n",
        "\n",
        "import numpy as np\n",
        "\n",
        "# Create an array\n",
        "x1 = np.array([99, 20, 30, 40])\n",
        "\n",
        "# Create a view of x1\n",
        "x3 = x1.view()\n",
        "\n",
        "# Check if x1 and x3 share memory\n",
        "print(\"Do x1 and x3 share memory?\", np.shares_memory(x1, x3))  # True\n",
        "\n"
      ]
    },
    {
      "cell_type": "markdown",
      "metadata": {
        "id": "vkE_1h-5YulJ"
      },
      "source": [
        "Woh! simple assignment is similar to view. That means\n",
        "The view does not own the data and any changes made to the view will affect the original array, and any changes made to the original array will affect the view.\n",
        "\n",
        "Don't agree? ok lets change x3 and see if original array i.e. x1 also changes"
      ]
    },
    {
      "cell_type": "code",
      "execution_count": 47,
      "metadata": {
        "id": "34UnXXvwYulJ",
        "colab": {
          "base_uri": "https://localhost:8080/"
        },
        "outputId": "e768c48e-d80c-4dca-d458-25b3c6d05bbb"
      },
      "outputs": [
        {
          "output_type": "stream",
          "name": "stdout",
          "text": [
            "x1 after modifying x3: [100  20  30  40]\n",
            "x3: [100  20  30  40]\n"
          ]
        }
      ],
      "source": [
        "#Change 1st element of x3=100\n",
        "\n",
        "import numpy as np\n",
        "\n",
        "# Create an array\n",
        "x1 = np.array([99, 20, 30, 40])\n",
        "\n",
        "# Create a view of x1\n",
        "x3 = x1.view()\n",
        "\n",
        "# Modify the first element of x3\n",
        "x3[0] = 100\n",
        "\n",
        "# Print both arrays\n",
        "print(\"x1 after modifying x3:\", x1)  # [100 20 30 40] (changed!)\n",
        "print(\"x3:\", x3)  # [100 20 30 40] (same as x1)\n"
      ]
    },
    {
      "cell_type": "code",
      "execution_count": 48,
      "metadata": {
        "id": "p64U7WsGYulJ",
        "colab": {
          "base_uri": "https://localhost:8080/"
        },
        "outputId": "b81d7b00-a06e-45a3-cc68-7d730f5dbf32"
      },
      "outputs": [
        {
          "output_type": "stream",
          "name": "stdout",
          "text": [
            "x1 after modifying x3: [100  20  30  40]\n",
            "x3: [100  20  30  40]\n"
          ]
        }
      ],
      "source": [
        "#print x1 and x3 to check if changes reflected in both\n",
        "\n",
        "import numpy as np\n",
        "\n",
        "# Create an array\n",
        "x1 = np.array([99, 20, 30, 40])\n",
        "\n",
        "# Create a view of x1\n",
        "x3 = x1.view()\n",
        "\n",
        "# Modify the first element of x3\n",
        "x3[0] = 100\n",
        "\n",
        "# Print both arrays\n",
        "print(\"x1 after modifying x3:\", x1)  # [100 20 30 40] (changed!)\n",
        "print(\"x3:\", x3)  # [100 20 30 40] (same as x1)\n",
        "\n"
      ]
    },
    {
      "cell_type": "markdown",
      "metadata": {
        "id": "aPgZUErOYulK"
      },
      "source": [
        "Now its proved.\n",
        "\n",
        "Lets see how **Copy()** function works"
      ]
    },
    {
      "cell_type": "code",
      "execution_count": 49,
      "metadata": {
        "id": "AB_dXmMrYulK",
        "colab": {
          "base_uri": "https://localhost:8080/"
        },
        "outputId": "22177e44-0764-4b24-bddc-090f0406c6e5"
      },
      "outputs": [
        {
          "output_type": "stream",
          "name": "stdout",
          "text": [
            "x1: [100  20  30  40]\n",
            "x4 (copy of x1): [100  20  30  40]\n"
          ]
        }
      ],
      "source": [
        "# Now create an array x4 which is copy of x1\n",
        "\n",
        "# x4=\n",
        "\n",
        "import numpy as np\n",
        "\n",
        "# Create an array\n",
        "x1 = np.array([100, 20, 30, 40])\n",
        "\n",
        "# Create an independent copy of x1\n",
        "x4 = x1.copy()\n",
        "\n",
        "# Print both arrays\n",
        "print(\"x1:\", x1)\n",
        "print(\"x4 (copy of x1):\", x4)\n"
      ]
    },
    {
      "cell_type": "code",
      "execution_count": 50,
      "metadata": {
        "id": "8_Ub7cuZYulK",
        "colab": {
          "base_uri": "https://localhost:8080/"
        },
        "outputId": "6e072bcd-bc84-4c2d-baa7-78274ebc562a"
      },
      "outputs": [
        {
          "output_type": "stream",
          "name": "stdout",
          "text": [
            "x1: [100  20  30  40]\n",
            "x4 after modification: [100  20  30 900]\n"
          ]
        }
      ],
      "source": [
        "# Change the last element of x4 as 900\n",
        "import numpy as np\n",
        "\n",
        "# Create an array\n",
        "x1 = np.array([100, 20, 30, 40])\n",
        "\n",
        "# Create an independent copy of x1\n",
        "x4 = x1.copy()\n",
        "\n",
        "# Modify the last element of x4\n",
        "x4[-1] = 900\n",
        "\n",
        "# Print both arrays\n",
        "print(\"x1:\", x1)  # [100 20 30 40] (unchanged)\n",
        "print(\"x4 after modification:\", x4)  # [100 20 30 900] (changed)\n",
        "\n",
        "\n",
        "\n"
      ]
    },
    {
      "cell_type": "code",
      "execution_count": 51,
      "metadata": {
        "id": "xEUDBraHYulK",
        "colab": {
          "base_uri": "https://localhost:8080/"
        },
        "outputId": "fddfb921-d919-4b67-c50a-eaa2eb4b040d"
      },
      "outputs": [
        {
          "output_type": "stream",
          "name": "stdout",
          "text": [
            "x1 (original): [100  20  30  40]\n",
            "x4 (after modification): [100  20  30 900]\n"
          ]
        }
      ],
      "source": [
        "# print both x1 and x4 to check if changes reflected in both\n",
        "\n",
        "import numpy as np\n",
        "\n",
        "# Create an array\n",
        "x1 = np.array([100, 20, 30, 40])\n",
        "\n",
        "# Create an independent copy of x1\n",
        "x4 = x1.copy()\n",
        "\n",
        "# Modify the last element of x4\n",
        "x4[-1] = 900\n",
        "\n",
        "# Print both arrays\n",
        "print(\"x1 (original):\", x1)\n",
        "print(\"x4 (after modification):\", x4)\n",
        "\n",
        "\n"
      ]
    },
    {
      "cell_type": "markdown",
      "metadata": {
        "id": "uMfFQMlNYulK"
      },
      "source": [
        "Hey! such an intresting output. You noticed buddy! your original array didn't get changed on change of its copy ie. x4.\n",
        "\n",
        "Still not convinced? Ok lets see if they both share memory or not"
      ]
    },
    {
      "cell_type": "code",
      "execution_count": 52,
      "metadata": {
        "id": "VZbJx19hYulK",
        "colab": {
          "base_uri": "https://localhost:8080/"
        },
        "outputId": "c2b02fb2-7df1-484f-bd36-ab25b225a7fc"
      },
      "outputs": [
        {
          "output_type": "stream",
          "name": "stdout",
          "text": [
            "Do x1 and x4 share memory? False\n"
          ]
        }
      ],
      "source": [
        "#Check memory share between x1 and x4\n",
        "\n",
        "\n",
        "import numpy as np\n",
        "\n",
        "# Create an array\n",
        "x1 = np.array([100, 20, 30, 40])\n",
        "\n",
        "# Create an independent copy of x1\n",
        "x4 = x1.copy()\n",
        "\n",
        "# Check if x1 and x4 share memory\n",
        "print(\"Do x1 and x4 share memory?\", np.shares_memory(x1, x4))  # Expected output: False\n"
      ]
    },
    {
      "cell_type": "markdown",
      "metadata": {
        "id": "1vgtMyk8YulM"
      },
      "source": [
        "**hstack vs vstack function**\n",
        "\n",
        "\n",
        "Stacking is same as concatenation, the only difference is that stacking is done along a new axis.\n",
        "\n",
        "NumPy provides a helper function:\n",
        "\n",
        "1. hstack() to stack along rows.\n",
        "2. vstack()  to stack along columns"
      ]
    },
    {
      "cell_type": "code",
      "execution_count": 53,
      "metadata": {
        "id": "8iXSmEsmYulM",
        "colab": {
          "base_uri": "https://localhost:8080/"
        },
        "outputId": "0685f5c2-d640-4f70-9a28-192559ac083d"
      },
      "outputs": [
        {
          "output_type": "stream",
          "name": "stdout",
          "text": [
            "Stacked array along columns:\n",
            " [[100 100]\n",
            " [ 20  20]\n",
            " [ 30  30]\n",
            " [ 40 900]]\n"
          ]
        }
      ],
      "source": [
        "# stack x1 and x4 along columns.\n",
        "\n",
        "import numpy as np\n",
        "\n",
        "# Create arrays\n",
        "x1 = np.array([100, 20, 30, 40])\n",
        "x4 = np.array([100, 20, 30, 900])  # Copy of x1 with modification\n",
        "\n",
        "# Stack along columns\n",
        "result = np.column_stack((x1, x4))\n",
        "\n",
        "# Print the result\n",
        "print(\"Stacked array along columns:\\n\", result)\n"
      ]
    },
    {
      "cell_type": "code",
      "execution_count": 54,
      "metadata": {
        "id": "VQpItcdCYulM",
        "colab": {
          "base_uri": "https://localhost:8080/"
        },
        "outputId": "80cd4e69-23b5-4373-d886-0aeb19fe0238"
      },
      "outputs": [
        {
          "output_type": "stream",
          "name": "stdout",
          "text": [
            "Stacked array along rows:\n",
            " [[100  20  30  40]\n",
            " [100  20  30 900]]\n"
          ]
        }
      ],
      "source": [
        "#stack x1 and x4 along rows\n",
        "\n",
        "import numpy as np\n",
        "\n",
        "# Create arrays\n",
        "x1 = np.array([100, 20, 30, 40])\n",
        "x4 = np.array([100, 20, 30, 900])  # Copy of x1 with modification\n",
        "\n",
        "# Stack along rows\n",
        "result = np.row_stack((x1, x4))\n",
        "\n",
        "# Print the result\n",
        "print(\"Stacked array along rows:\\n\", result)\n"
      ]
    },
    {
      "cell_type": "markdown",
      "metadata": {
        "id": "YJD_N7B_YulM"
      },
      "source": [
        "We hope now you saw the difference between them.\n",
        "\n",
        "Fun fact! you can even use concatenate() function to join 2 arrays along with the axis. If axis is not explicitly passed, it is taken as 0 ie. along column\n",
        "\n",
        "Lets try this function as well"
      ]
    },
    {
      "cell_type": "code",
      "execution_count": 55,
      "metadata": {
        "id": "P2SNMvTaYulM",
        "colab": {
          "base_uri": "https://localhost:8080/"
        },
        "outputId": "04d014b3-0b66-4958-9bae-7597b9f4fd44"
      },
      "outputs": [
        {
          "output_type": "stream",
          "name": "stdout",
          "text": [
            "Joined array along rows:\n",
            " [[ 1  2  3]\n",
            " [ 4  5  6]\n",
            " [ 7  8  9]\n",
            " [10 11 12]]\n"
          ]
        }
      ],
      "source": [
        "# arr1 =\n",
        "\n",
        "\n",
        "# arr2 =\n",
        "\n",
        "\n",
        "##join arr1 and arr2 along rows using concatenate() function\n",
        "\n",
        "import numpy as np\n",
        "\n",
        "# Define two arrays\n",
        "arr1 = np.array([[1, 2, 3], [4, 5, 6]])\n",
        "arr2 = np.array([[7, 8, 9], [10, 11, 12]])\n",
        "\n",
        "# Concatenate along rows (axis=0)\n",
        "result = np.concatenate((arr1, arr2), axis=0)\n",
        "\n",
        "# Print the result\n",
        "print(\"Joined array along rows:\\n\", result)\n",
        "\n"
      ]
    },
    {
      "cell_type": "code",
      "execution_count": 56,
      "metadata": {
        "id": "dbf1xSfeYulN",
        "colab": {
          "base_uri": "https://localhost:8080/"
        },
        "outputId": "5767647b-9203-454e-963a-ea29dec5181b"
      },
      "outputs": [
        {
          "output_type": "stream",
          "name": "stdout",
          "text": [
            "Joined array along columns:\n",
            " [[ 1  2  3  7  8  9]\n",
            " [ 4  5  6 10 11 12]]\n"
          ]
        }
      ],
      "source": [
        "##join arr1 and arr2 along columns using concatenate() function\n",
        "\n",
        "import numpy as np\n",
        "\n",
        "# Define two arrays\n",
        "arr1 = np.array([[1, 2, 3], [4, 5, 6]])\n",
        "arr2 = np.array([[7, 8, 9], [10, 11, 12]])\n",
        "\n",
        "# Concatenate along columns (axis=1)\n",
        "result = np.concatenate((arr1, arr2), axis=1)\n",
        "\n",
        "# Print the result\n",
        "print(\"Joined array along columns:\\n\", result)\n",
        "\n"
      ]
    },
    {
      "cell_type": "markdown",
      "metadata": {
        "id": "WKy9Lu4vYulN"
      },
      "source": [
        "## Adding, Insert and delete Numpy array"
      ]
    },
    {
      "cell_type": "markdown",
      "metadata": {
        "id": "_W4bZ70AYulN"
      },
      "source": [
        "You can also add 2 arrays using append() function also. This function appends values to end of array\n",
        "\n",
        "Lets see how"
      ]
    },
    {
      "cell_type": "code",
      "execution_count": 57,
      "metadata": {
        "id": "yC1yIKfPYulN",
        "colab": {
          "base_uri": "https://localhost:8080/"
        },
        "outputId": "095f9a78-effa-40f4-b948-31834b1793be"
      },
      "outputs": [
        {
          "output_type": "stream",
          "name": "stdout",
          "text": [
            "Appended array along rows:\n",
            " [[ 1  2  3]\n",
            " [ 4  5  6]\n",
            " [ 7  8  9]\n",
            " [10 11 12]]\n"
          ]
        }
      ],
      "source": [
        "# append arr2 to arr1\n",
        "import numpy as np\n",
        "\n",
        "# Define two arrays\n",
        "arr1 = np.array([[1, 2, 3], [4, 5, 6]])\n",
        "arr2 = np.array([[7, 8, 9], [10, 11, 12]])\n",
        "\n",
        "# Append arr2 to arr1 along rows\n",
        "result = np.append(arr1, arr2, axis=0)\n",
        "\n",
        "# Print the result\n",
        "print(\"Appended array along rows:\\n\", result)\n",
        "\n",
        "\n"
      ]
    },
    {
      "cell_type": "markdown",
      "metadata": {
        "id": "Jb4EPxL4YulN"
      },
      "source": [
        "Lets use insert() function which Inserts values into array before specified index value"
      ]
    },
    {
      "cell_type": "code",
      "execution_count": 58,
      "metadata": {
        "id": "2pF_KctFYulN",
        "colab": {
          "base_uri": "https://localhost:8080/"
        },
        "outputId": "4be99d0e-d7ae-45e8-ca5d-3e76ab8df9e5"
      },
      "outputs": [
        {
          "output_type": "stream",
          "name": "stdout",
          "text": [
            "Array after insertion:\n",
            " [100  20  30  40 100  20  30 900]\n"
          ]
        }
      ],
      "source": [
        "# Inserts values into array x1 before index 4 with elements of x4\n",
        "\n",
        "import numpy as np\n",
        "\n",
        "# Define arrays\n",
        "x1 = np.array([100, 20, 30, 40])\n",
        "x4 = np.array([100, 20, 30, 900])\n",
        "\n",
        "# Insert x4 into x1 before index 4\n",
        "result = np.insert(x1, 4, x4)\n",
        "\n",
        "# Print the result\n",
        "print(\"Array after insertion:\\n\", result)\n",
        "\n"
      ]
    },
    {
      "cell_type": "markdown",
      "metadata": {
        "id": "uTDcvWAPYulN"
      },
      "source": [
        "You can see in above output we have inserted all the elements of x4 before index 4 in array x1."
      ]
    },
    {
      "cell_type": "code",
      "execution_count": 59,
      "metadata": {
        "id": "btEqORsVYulN",
        "colab": {
          "base_uri": "https://localhost:8080/"
        },
        "outputId": "20c7cc78-92f3-4d20-e460-9dcd59955c0c"
      },
      "outputs": [
        {
          "output_type": "stream",
          "name": "stdout",
          "text": [
            "Array after deletion: [100  30  40]\n"
          ]
        }
      ],
      "source": [
        "# delete 2nd element from array x2\n",
        "import numpy as np\n",
        "\n",
        "# Define array\n",
        "x2 = np.array([100, 20, 30, 40])\n",
        "\n",
        "# Delete the 2nd element (index 1)\n",
        "result = np.delete(x2, 1)\n",
        "\n",
        "# Print the result\n",
        "print(\"Array after deletion:\", result)\n",
        "\n",
        "\n",
        "\n"
      ]
    },
    {
      "cell_type": "markdown",
      "metadata": {
        "id": "HcSC-kfxYulO"
      },
      "source": [
        "Did you see? 2 value is deleted from x2 which was at index position 2"
      ]
    },
    {
      "cell_type": "markdown",
      "metadata": {
        "id": "3XDGaMkZYulS"
      },
      "source": [
        "Good Job learner!"
      ]
    },
    {
      "cell_type": "code",
      "source": [],
      "metadata": {
        "id": "CSpHyauaC9Y4"
      },
      "execution_count": null,
      "outputs": []
    }
  ],
  "metadata": {
    "kernelspec": {
      "display_name": "Python 3",
      "language": "python",
      "name": "python3"
    },
    "language_info": {
      "codemirror_mode": {
        "name": "ipython",
        "version": 3
      },
      "file_extension": ".py",
      "mimetype": "text/x-python",
      "name": "python",
      "nbconvert_exporter": "python",
      "pygments_lexer": "ipython3",
      "version": "3.8.5"
    },
    "colab": {
      "provenance": [],
      "include_colab_link": true
    }
  },
  "nbformat": 4,
  "nbformat_minor": 0
}