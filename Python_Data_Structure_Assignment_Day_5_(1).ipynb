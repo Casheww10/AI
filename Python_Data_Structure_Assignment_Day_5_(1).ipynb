{
  "cells": [
    {
      "cell_type": "markdown",
      "metadata": {
        "id": "view-in-github",
        "colab_type": "text"
      },
      "source": [
        "<a href=\"https://colab.research.google.com/github/Casheww10/AI/blob/main/Python_Data_Structure_Assignment_Day_5_(1).ipynb\" target=\"_parent\"><img src=\"https://colab.research.google.com/assets/colab-badge.svg\" alt=\"Open In Colab\"/></a>"
      ]
    },
    {
      "cell_type": "markdown",
      "metadata": {
        "id": "jGxqF4aIjNSq"
      },
      "source": [
        "<a id='1'></a><center> <h3 style=\"background-color:orange; color:white\" ><br>Python Data Structures<br></h3>"
      ],
      "id": "jGxqF4aIjNSq"
    },
    {
      "cell_type": "markdown",
      "metadata": {
        "id": "B06dovDK5Wbn"
      },
      "source": [
        "# `Types of Data Structures:`\n",
        "* `List` | `Tuple`\n",
        "* `Set` | `Dictionary`"
      ],
      "id": "B06dovDK5Wbn"
    },
    {
      "cell_type": "markdown",
      "metadata": {
        "id": "2-PAd6A15Wbo"
      },
      "source": [
        "|Data Structures type|Mutable|Comments|Indexing|Ordered|Duplicacy|\n",
        "|----|----|----|----|----|----|\n",
        "tuple ()|immutable|immutable version of list| possible|yes |allowed |\n",
        "list []|mutable|-|possible |yes | allowed |\n",
        "set {}|mutable| -|not |no |not |\n",
        "dict {key:value}|mutable|-|possible |no |not  |"
      ],
      "id": "2-PAd6A15Wbo"
    },
    {
      "cell_type": "markdown",
      "metadata": {
        "id": "tEdDf0dy5Wbo"
      },
      "source": [
        "💫 `immutable` => `can't be changed` <br>\n",
        "💫 `mutable` => `can be changed`"
      ],
      "id": "tEdDf0dy5Wbo"
    },
    {
      "cell_type": "code",
      "execution_count": null,
      "metadata": {
        "id": "MPukjMq95Wbp"
      },
      "outputs": [],
      "source": [],
      "id": "MPukjMq95Wbp"
    },
    {
      "cell_type": "markdown",
      "metadata": {
        "id": "Tyavi31ZjNSw"
      },
      "source": [
        "## Lists\n",
        "\n"
      ],
      "id": "Tyavi31ZjNSw"
    },
    {
      "cell_type": "markdown",
      "metadata": {
        "id": "tkDQdRdUjNSy"
      },
      "source": [
        "### Create an empty list with the name ‘a’, print the value of a and type(a).\n"
      ],
      "id": "tkDQdRdUjNSy"
    },
    {
      "cell_type": "code",
      "execution_count": 49,
      "metadata": {
        "id": "a6i4yNGvjNSz"
      },
      "outputs": [],
      "source": [
        "# create empty list, name it 'a'\n",
        "a=[]\n"
      ],
      "id": "a6i4yNGvjNSz"
    },
    {
      "cell_type": "code",
      "execution_count": 50,
      "metadata": {
        "id": "M8FMNQEgjNS0"
      },
      "outputs": [],
      "source": [
        "# print the value of a\n",
        "a=[1,2,3,4,5]\n",
        "\n"
      ],
      "id": "M8FMNQEgjNS0"
    },
    {
      "cell_type": "code",
      "source": [
        "print(a)"
      ],
      "metadata": {
        "colab": {
          "base_uri": "https://localhost:8080/"
        },
        "id": "eIPKJ9KS8xtU",
        "outputId": "40a7c691-b4fa-4136-effa-0fc1b545f61b"
      },
      "id": "eIPKJ9KS8xtU",
      "execution_count": 51,
      "outputs": [
        {
          "output_type": "stream",
          "name": "stdout",
          "text": [
            "[1, 2, 3, 4, 5]\n"
          ]
        }
      ]
    },
    {
      "cell_type": "code",
      "execution_count": 52,
      "metadata": {
        "id": "Jfc9sg1vjNS1",
        "outputId": "3c605fc8-02d9-4e3e-cffc-a119d2e6534d",
        "colab": {
          "base_uri": "https://localhost:8080/"
        }
      },
      "outputs": [
        {
          "output_type": "execute_result",
          "data": {
            "text/plain": [
              "list"
            ]
          },
          "metadata": {},
          "execution_count": 52
        }
      ],
      "source": [
        "# print the type of a\n",
        "type(a)"
      ],
      "id": "Jfc9sg1vjNS1"
    },
    {
      "cell_type": "markdown",
      "metadata": {
        "id": "UNpN9_w4jNS1"
      },
      "source": [
        "### Create a list , languages = ['R','Python', 'SAS', 'Scala', 42],"
      ],
      "id": "UNpN9_w4jNS1"
    },
    {
      "cell_type": "code",
      "execution_count": 53,
      "metadata": {
        "id": "x-TG-vc5jNS2"
      },
      "outputs": [],
      "source": [
        "languages = ['R', 'Python', 'SAS', 'Scala', 42]"
      ],
      "id": "x-TG-vc5jNS2"
    },
    {
      "cell_type": "code",
      "source": [
        "print(languages)"
      ],
      "metadata": {
        "colab": {
          "base_uri": "https://localhost:8080/"
        },
        "id": "hj8cGvRi9PAy",
        "outputId": "6e22f20e-e775-493c-986f-e8a2c159d869"
      },
      "id": "hj8cGvRi9PAy",
      "execution_count": 54,
      "outputs": [
        {
          "output_type": "stream",
          "name": "stdout",
          "text": [
            "['R', 'Python', 'SAS', 'Scala', 42]\n"
          ]
        }
      ]
    },
    {
      "cell_type": "markdown",
      "metadata": {
        "id": "JDSIK8TbjNS3"
      },
      "source": [
        "Print the number of elements in the list"
      ],
      "id": "JDSIK8TbjNS3"
    },
    {
      "cell_type": "code",
      "execution_count": 55,
      "metadata": {
        "id": "C4lBMaM8jNS3"
      },
      "outputs": [],
      "source": [
        "languages = ['R', 'Python', 'SAS', 'Scala', 42] # Creating the list\n"
      ],
      "id": "C4lBMaM8jNS3"
    },
    {
      "cell_type": "code",
      "source": [
        "print(len(languages)) # Printing the number of elements"
      ],
      "metadata": {
        "colab": {
          "base_uri": "https://localhost:8080/"
        },
        "id": "mgILgrIy90Jk",
        "outputId": "e1a6a05b-9d5d-4737-d92f-84b56148dcb6"
      },
      "id": "mgILgrIy90Jk",
      "execution_count": 56,
      "outputs": [
        {
          "output_type": "stream",
          "name": "stdout",
          "text": [
            "5\n"
          ]
        }
      ]
    },
    {
      "cell_type": "markdown",
      "metadata": {
        "id": "EyzO_pcnjNS3"
      },
      "source": [
        "Using for loop iterate and print all the elements in the list"
      ],
      "id": "EyzO_pcnjNS3"
    },
    {
      "cell_type": "code",
      "execution_count": 57,
      "metadata": {
        "id": "TyM54ydsjNS4",
        "outputId": "f132c270-b282-4827-fe0c-40ee5e62835f",
        "colab": {
          "base_uri": "https://localhost:8080/"
        }
      },
      "outputs": [
        {
          "output_type": "stream",
          "name": "stdout",
          "text": [
            "R\n",
            "Python\n",
            "SAS\n",
            "Scala\n",
            "42\n"
          ]
        }
      ],
      "source": [
        "languages = ['R', 'Python', 'SAS', 'Scala', 42]  # Creating the list\n",
        "# Using a for loop to print each element\n",
        "for lang in languages:\n",
        "    print(lang)\n",
        "\n"
      ],
      "id": "TyM54ydsjNS4"
    },
    {
      "cell_type": "markdown",
      "metadata": {
        "id": "eC1fqz9LjNS4"
      },
      "source": [
        "Select the second item, 'Python' and store it in a new variable named 'temp'"
      ],
      "id": "eC1fqz9LjNS4"
    },
    {
      "cell_type": "code",
      "execution_count": 58,
      "metadata": {
        "id": "KY0KhRlOjNS4"
      },
      "outputs": [],
      "source": [
        "languages = ['R', 'Python', 'SAS', 'Scala', 42]  # Creating the list"
      ],
      "id": "KY0KhRlOjNS4"
    },
    {
      "cell_type": "code",
      "source": [
        "temp = languages[1]  # Selecting the second item (index 1) and storing it in 'temp'"
      ],
      "metadata": {
        "id": "ktzVt3av_Kne"
      },
      "id": "ktzVt3av_Kne",
      "execution_count": 59,
      "outputs": []
    },
    {
      "cell_type": "markdown",
      "metadata": {
        "id": "breORMa_jNS4"
      },
      "source": [
        "Print the value of temp and type(temp)"
      ],
      "id": "breORMa_jNS4"
    },
    {
      "cell_type": "code",
      "execution_count": 60,
      "metadata": {
        "id": "MbvX2aIgjNS5",
        "outputId": "6acfc690-c6d6-48ee-d509-e31ce957d8ba",
        "colab": {
          "base_uri": "https://localhost:8080/"
        }
      },
      "outputs": [
        {
          "output_type": "stream",
          "name": "stdout",
          "text": [
            "Python\n"
          ]
        }
      ],
      "source": [
        "print(temp)  # Printing the value of 'temp'\n",
        "\n"
      ],
      "id": "MbvX2aIgjNS5"
    },
    {
      "cell_type": "code",
      "source": [
        "type(temp)"
      ],
      "metadata": {
        "colab": {
          "base_uri": "https://localhost:8080/"
        },
        "id": "WZoSziUK_Uwg",
        "outputId": "c639cff7-94d1-4df1-ca23-1b04e7256d38"
      },
      "id": "WZoSziUK_Uwg",
      "execution_count": 61,
      "outputs": [
        {
          "output_type": "execute_result",
          "data": {
            "text/plain": [
              "str"
            ]
          },
          "metadata": {},
          "execution_count": 61
        }
      ]
    },
    {
      "cell_type": "markdown",
      "metadata": {
        "id": "I4MrKlAUjNS5"
      },
      "source": [
        "Append the element 'Java' in the list"
      ],
      "id": "I4MrKlAUjNS5"
    },
    {
      "cell_type": "code",
      "execution_count": 62,
      "metadata": {
        "id": "rOtqZY6PjNS6"
      },
      "outputs": [],
      "source": [
        "languages = ['R', 'Python', 'SAS', 'Scala', 42]  # Creating the list\n"
      ],
      "id": "rOtqZY6PjNS6"
    },
    {
      "cell_type": "code",
      "source": [
        "languages.append('Java') # Appending 'Java' to the list"
      ],
      "metadata": {
        "id": "J__fWJpQ_jVf"
      },
      "id": "J__fWJpQ_jVf",
      "execution_count": 63,
      "outputs": []
    },
    {
      "cell_type": "code",
      "source": [
        "print(languages)  # Printing the updated list"
      ],
      "metadata": {
        "colab": {
          "base_uri": "https://localhost:8080/"
        },
        "id": "ixRyrPj0_y8R",
        "outputId": "60cc3069-a0bb-47b0-aaf1-8d28942aeff0"
      },
      "id": "ixRyrPj0_y8R",
      "execution_count": 64,
      "outputs": [
        {
          "output_type": "stream",
          "name": "stdout",
          "text": [
            "['R', 'Python', 'SAS', 'Scala', 42, 'Java']\n"
          ]
        }
      ]
    },
    {
      "cell_type": "markdown",
      "metadata": {
        "id": "ksEn8qvFjNS6"
      },
      "source": [
        "Remove the element 42 from the list and print the list"
      ],
      "id": "ksEn8qvFjNS6"
    },
    {
      "cell_type": "code",
      "execution_count": 65,
      "metadata": {
        "id": "Lxuzfc1bjNS6",
        "outputId": "8aed4231-6343-477c-a765-42d202931ab9",
        "colab": {
          "base_uri": "https://localhost:8080/"
        }
      },
      "outputs": [
        {
          "output_type": "stream",
          "name": "stdout",
          "text": [
            "['R', 'Python', 'SAS', 'Scala']\n"
          ]
        }
      ],
      "source": [
        "languages = ['R', 'Python', 'SAS', 'Scala', 42]  # Creating the list\n",
        "\n",
        "languages.remove(42)  # Removing the element 42\n",
        "\n",
        "print(languages)  # Printing the updated list\n",
        "\n"
      ],
      "id": "Lxuzfc1bjNS6"
    },
    {
      "cell_type": "markdown",
      "metadata": {
        "id": "19MjI0w6jNS6"
      },
      "source": [
        "### Create a list, colors = [‘Red’, ‘Blue’, ‘White’]"
      ],
      "id": "19MjI0w6jNS6"
    },
    {
      "cell_type": "code",
      "execution_count": 66,
      "metadata": {
        "id": "Z1lMzdbWjNS7",
        "colab": {
          "base_uri": "https://localhost:8080/"
        },
        "outputId": "cb3db357-7c6f-4176-cef1-095a55c19c59"
      },
      "outputs": [
        {
          "output_type": "stream",
          "name": "stdout",
          "text": [
            "['Red', 'Blue', 'White']\n"
          ]
        }
      ],
      "source": [
        "colors = ['Red', 'Blue', 'White']  # Creating the list\n",
        "print(colors)  # Printing the list"
      ],
      "id": "Z1lMzdbWjNS7"
    },
    {
      "cell_type": "markdown",
      "metadata": {
        "id": "VAqLj5R3jNS7"
      },
      "source": [
        "Append the element 'Black' to colors"
      ],
      "id": "VAqLj5R3jNS7"
    },
    {
      "cell_type": "code",
      "execution_count": 67,
      "metadata": {
        "id": "gvb5iC7ljNS7",
        "colab": {
          "base_uri": "https://localhost:8080/"
        },
        "outputId": "abc57e38-b6d6-42db-8ac6-d8362951e147"
      },
      "outputs": [
        {
          "output_type": "stream",
          "name": "stdout",
          "text": [
            "['Red', 'Blue', 'White', 'Black']\n"
          ]
        }
      ],
      "source": [
        "colors = ['Red', 'Blue', 'White']\n",
        "colors.append('Black') #append means adding element that is 'Black' to colors\n",
        "print(colors) #printing the list\n"
      ],
      "id": "gvb5iC7ljNS7"
    },
    {
      "cell_type": "markdown",
      "metadata": {
        "id": "MFWIzVcvjNS7"
      },
      "source": [
        "Append the color 'Orange' to second position (index=1) and print the list"
      ],
      "id": "MFWIzVcvjNS7"
    },
    {
      "cell_type": "code",
      "execution_count": 68,
      "metadata": {
        "id": "Fb6YZDSNjNS8",
        "colab": {
          "base_uri": "https://localhost:8080/"
        },
        "outputId": "3504529b-c9a9-46b9-f2a1-1bc66d5a4ac1"
      },
      "outputs": [
        {
          "output_type": "stream",
          "name": "stdout",
          "text": [
            "['Red', 'Orange', 'Blue', 'White', 'Black']\n"
          ]
        }
      ],
      "source": [
        "colors = ['Red', 'Blue', 'White', 'Black']  # Creating the list\n",
        "\n",
        "colors.insert(1, 'Orange')  # Inserting 'Orange' at index 1\n",
        "\n",
        "print(colors)  # Printing the updated list\n",
        "\n"
      ],
      "id": "Fb6YZDSNjNS8"
    },
    {
      "cell_type": "markdown",
      "metadata": {
        "id": "8DWB76AOjNS8"
      },
      "source": [
        "Print the list\n"
      ],
      "id": "8DWB76AOjNS8"
    },
    {
      "cell_type": "code",
      "execution_count": 69,
      "metadata": {
        "id": "0ldkGCozjNS8",
        "outputId": "e9e686d9-8136-49bf-a296-fc1c1992c1d4",
        "colab": {
          "base_uri": "https://localhost:8080/"
        }
      },
      "outputs": [
        {
          "output_type": "stream",
          "name": "stdout",
          "text": [
            "['Red', 'Orange', 'Blue', 'White', 'Black']\n"
          ]
        }
      ],
      "source": [
        "print(colors)  # Printing the list"
      ],
      "id": "0ldkGCozjNS8"
    },
    {
      "cell_type": "markdown",
      "metadata": {
        "id": "WfFfxvLKjNS8"
      },
      "source": [
        "Create another list, colors2 = [‘Grey’, ‘Sky Blue’]"
      ],
      "id": "WfFfxvLKjNS8"
    },
    {
      "cell_type": "code",
      "execution_count": 70,
      "metadata": {
        "id": "onZEiwdUjNS8",
        "colab": {
          "base_uri": "https://localhost:8080/"
        },
        "outputId": "005d3364-a7bf-422c-9c6a-3137525cddff"
      },
      "outputs": [
        {
          "output_type": "stream",
          "name": "stdout",
          "text": [
            "['Grey', 'Sky Blue']\n"
          ]
        }
      ],
      "source": [
        "colors2 = ['Grey', 'Sky Blue']  # Creating the list\n",
        "print(colors2)  # Printing the list"
      ],
      "id": "onZEiwdUjNS8"
    },
    {
      "cell_type": "markdown",
      "metadata": {
        "id": "MrNQk6uKjNS8"
      },
      "source": [
        "Add the elements of colors2 to colors using extend function in the list"
      ],
      "id": "MrNQk6uKjNS8"
    },
    {
      "cell_type": "code",
      "execution_count": 71,
      "metadata": {
        "id": "Hr1Eu88OjNS9",
        "colab": {
          "base_uri": "https://localhost:8080/"
        },
        "outputId": "266ef688-fb4d-4b05-bb50-4ef97d994d07"
      },
      "outputs": [
        {
          "output_type": "stream",
          "name": "stdout",
          "text": [
            "['Red', 'Orange', 'Blue', 'White', 'Black', 'Grey', 'Sky Blue']\n"
          ]
        }
      ],
      "source": [
        "colors = ['Red', 'Orange', 'Blue', 'White', 'Black']  # Creating the first list\n",
        "colors2 = ['Grey', 'Sky Blue']  # Creating the second list\n",
        "\n",
        "colors.extend(colors2)  # Extending colors with elements from colors2\n",
        "print(colors)"
      ],
      "id": "Hr1Eu88OjNS9"
    },
    {
      "cell_type": "markdown",
      "metadata": {
        "id": "u0KDeU20jNS9"
      },
      "source": [
        "Print len of colors and its elements"
      ],
      "id": "u0KDeU20jNS9"
    },
    {
      "cell_type": "code",
      "execution_count": 72,
      "metadata": {
        "id": "bnBmsCg2jNS9",
        "outputId": "a240a135-c90a-40a5-e899-fd8e95c0957b",
        "colab": {
          "base_uri": "https://localhost:8080/"
        }
      },
      "outputs": [
        {
          "output_type": "stream",
          "name": "stdout",
          "text": [
            "Length of colors: 7\n"
          ]
        }
      ],
      "source": [
        "# Printing the length of the list\n",
        "print(\"Length of colors:\", len(colors))\n",
        "\n"
      ],
      "id": "bnBmsCg2jNS9"
    },
    {
      "cell_type": "code",
      "source": [
        "# Printing all elements of the list\n",
        "print(\"Elements of colors:\", colors)"
      ],
      "metadata": {
        "colab": {
          "base_uri": "https://localhost:8080/"
        },
        "id": "PYGgZWeSCNjx",
        "outputId": "b2b8d25d-78f1-4b3e-f1a6-740ec3fa64d3"
      },
      "id": "PYGgZWeSCNjx",
      "execution_count": 73,
      "outputs": [
        {
          "output_type": "stream",
          "name": "stdout",
          "text": [
            "Elements of colors: ['Red', 'Orange', 'Blue', 'White', 'Black', 'Grey', 'Sky Blue']\n"
          ]
        }
      ]
    },
    {
      "cell_type": "markdown",
      "metadata": {
        "id": "vJ7YqokSjNS9"
      },
      "source": [
        "Sort the list and print it."
      ],
      "id": "vJ7YqokSjNS9"
    },
    {
      "cell_type": "code",
      "execution_count": 74,
      "metadata": {
        "id": "X14C-1PtjNS9"
      },
      "outputs": [],
      "source": [
        "colors.sort()  # Sorting the list in ascending order\n",
        "\n"
      ],
      "id": "X14C-1PtjNS9"
    },
    {
      "cell_type": "code",
      "source": [
        "print(\"Sorted colors list:\", colors)  # Printing the sorted list"
      ],
      "metadata": {
        "colab": {
          "base_uri": "https://localhost:8080/"
        },
        "id": "w0x7Nnz4CZxF",
        "outputId": "55f749bb-94f1-4d1d-a3e1-d025cd75ab70"
      },
      "id": "w0x7Nnz4CZxF",
      "execution_count": 75,
      "outputs": [
        {
          "output_type": "stream",
          "name": "stdout",
          "text": [
            "Sorted colors list: ['Black', 'Blue', 'Grey', 'Orange', 'Red', 'Sky Blue', 'White']\n"
          ]
        }
      ]
    },
    {
      "cell_type": "markdown",
      "metadata": {
        "id": "MdN5B9F9jNS-"
      },
      "source": [
        "### Create a string, sent = ‘Coronavirus Caused Lockdowns Around The World.”"
      ],
      "id": "MdN5B9F9jNS-"
    },
    {
      "cell_type": "code",
      "execution_count": 76,
      "metadata": {
        "id": "j4JUR085jNS-",
        "colab": {
          "base_uri": "https://localhost:8080/"
        },
        "outputId": "0173e84b-f570-45ea-c4d0-ce7abd2dd2ba"
      },
      "outputs": [
        {
          "output_type": "stream",
          "name": "stdout",
          "text": [
            "Coronavirus Caused Lockdowns Around The World.\n"
          ]
        }
      ],
      "source": [
        "sent = 'Coronavirus Caused Lockdowns Around The World.'  # Creating the string\n",
        "print(sent)  # Printing the string"
      ],
      "id": "j4JUR085jNS-"
    },
    {
      "cell_type": "markdown",
      "metadata": {
        "id": "rcn18drOjNS-"
      },
      "source": [
        "Use split function to convert the string into a list of words and save it in variable words and print the same"
      ],
      "id": "rcn18drOjNS-"
    },
    {
      "cell_type": "code",
      "execution_count": 77,
      "metadata": {
        "id": "fjiKSboajNS-",
        "outputId": "5b71120d-348d-48b9-bd22-6be4b305144a",
        "colab": {
          "base_uri": "https://localhost:8080/"
        }
      },
      "outputs": [
        {
          "output_type": "stream",
          "name": "stdout",
          "text": [
            "['Coronavirus', 'Caused', 'Lockdowns', 'Around', 'The', 'World.']\n"
          ]
        }
      ],
      "source": [
        "sent = 'Coronavirus Caused Lockdowns Around The World.'  # Creating the string\n",
        "\n",
        "words = sent.split()  # Splitting the string into a list of words\n",
        "\n",
        "print(words)  # Printing the list of words\n",
        "\n"
      ],
      "id": "fjiKSboajNS-"
    },
    {
      "cell_type": "markdown",
      "metadata": {
        "id": "rowxhN26jNS_"
      },
      "source": [
        "Convert each word in the list to lower case and store it in variable words_lower.\n",
        "Print words_lower"
      ],
      "id": "rowxhN26jNS_"
    },
    {
      "cell_type": "code",
      "execution_count": 78,
      "metadata": {
        "id": "LuzAECOVjNS_",
        "outputId": "31a46169-f021-43c5-996e-e8f5a9969952",
        "colab": {
          "base_uri": "https://localhost:8080/"
        }
      },
      "outputs": [
        {
          "output_type": "stream",
          "name": "stdout",
          "text": [
            "['coronavirus', 'caused', 'lockdowns', 'around', 'the', 'world.']\n"
          ]
        }
      ],
      "source": [
        "sent = 'Coronavirus Caused Lockdowns Around The World.'  # Creating the string\n",
        "words = sent.split()  # Splitting the string into a list of words\n",
        "\n",
        "words_lower = [word.lower() for word in words]  # Converting each word to lowercase\n",
        "\n",
        "print(words_lower)  # Printing the lowercase words list"
      ],
      "id": "LuzAECOVjNS_"
    },
    {
      "cell_type": "markdown",
      "metadata": {
        "id": "zznwP-l9jNS_"
      },
      "source": [
        "Check whether ‘country’ is in the list"
      ],
      "id": "zznwP-l9jNS_"
    },
    {
      "cell_type": "code",
      "execution_count": 79,
      "metadata": {
        "id": "y-U1felnjNS_",
        "outputId": "6407557b-eefb-4e1d-dc65-57641a9e90f5",
        "colab": {
          "base_uri": "https://localhost:8080/"
        }
      },
      "outputs": [
        {
          "output_type": "stream",
          "name": "stdout",
          "text": [
            "'country' is NOT in the list.\n"
          ]
        }
      ],
      "source": [
        "# Checking if 'country' is in the list\n",
        "if 'country' in words_lower:\n",
        "    print(\"'country' is in the list.\")\n",
        "else:\n",
        "    print(\"'country' is NOT in the list.\")"
      ],
      "id": "y-U1felnjNS_"
    },
    {
      "cell_type": "markdown",
      "metadata": {
        "id": "AZMvSVKWjNS_"
      },
      "source": [
        "Remove the element ‘the’ from the list and print the list."
      ],
      "id": "AZMvSVKWjNS_"
    },
    {
      "cell_type": "code",
      "execution_count": 80,
      "metadata": {
        "id": "bmDbpYd7jNS_",
        "outputId": "2ac6cbbc-8e59-4076-8503-941bece7f687",
        "colab": {
          "base_uri": "https://localhost:8080/"
        }
      },
      "outputs": [
        {
          "output_type": "stream",
          "name": "stdout",
          "text": [
            "['coronavirus', 'caused', 'lockdowns', 'around', 'world.']\n"
          ]
        }
      ],
      "source": [
        "words_lower.remove('the')  # Removing 'the' from the list\n",
        "\n",
        "print(words_lower)  # Printing the updated list\n",
        "\n"
      ],
      "id": "bmDbpYd7jNS_"
    },
    {
      "cell_type": "markdown",
      "metadata": {
        "id": "int3gJc0jNS_"
      },
      "source": [
        "Select the first 4 words from the list words_lower using slicing and store them in a new variable x4"
      ],
      "id": "int3gJc0jNS_"
    },
    {
      "cell_type": "code",
      "execution_count": 81,
      "metadata": {
        "id": "fXOJmYI1jNTA",
        "colab": {
          "base_uri": "https://localhost:8080/"
        },
        "outputId": "64eea10a-ec73-4c34-c90d-0e0f4b8107cc"
      },
      "outputs": [
        {
          "output_type": "stream",
          "name": "stdout",
          "text": [
            "['coronavirus', 'caused', 'lockdowns', 'around']\n"
          ]
        }
      ],
      "source": [
        "\n",
        "\n",
        "x4 = words_lower[:4]  # Selecting the first 4 words using slicing\n",
        "\n",
        "print(x4)  # Printing x4\n"
      ],
      "id": "fXOJmYI1jNTA"
    },
    {
      "cell_type": "code",
      "execution_count": 81,
      "metadata": {
        "id": "2Kb_1V9HjNTA"
      },
      "outputs": [],
      "source": [
        "\n",
        "\n"
      ],
      "id": "2Kb_1V9HjNTA"
    },
    {
      "cell_type": "markdown",
      "metadata": {
        "id": "3HgP3nUmjNTA"
      },
      "source": [
        "Convert the list of elements to single string using join function and print it"
      ],
      "id": "3HgP3nUmjNTA"
    },
    {
      "cell_type": "code",
      "execution_count": 82,
      "metadata": {
        "id": "hiXO7ekhjNTA",
        "outputId": "c3d6a44a-69d5-4e85-bb7d-1e77464d8866",
        "colab": {
          "base_uri": "https://localhost:8080/"
        }
      },
      "outputs": [
        {
          "output_type": "stream",
          "name": "stdout",
          "text": [
            "coronavirus caused lockdowns around\n"
          ]
        }
      ],
      "source": [
        "x4_string = \" \".join(x4)  # Joining the list into a single string\n",
        "\n",
        "print(x4_string)  # Printing the joined string\n"
      ],
      "id": "hiXO7ekhjNTA"
    },
    {
      "cell_type": "markdown",
      "metadata": {
        "id": "tW6We_kvjNTA"
      },
      "source": [
        "## Sets"
      ],
      "id": "tW6We_kvjNTA"
    },
    {
      "cell_type": "markdown",
      "metadata": {
        "id": "02qkte5xjNTA"
      },
      "source": [
        "### Create stud_grades = ['A','A','B','C','C','F']"
      ],
      "id": "02qkte5xjNTA"
    },
    {
      "cell_type": "code",
      "execution_count": 83,
      "metadata": {
        "id": "M5P_qZaTjNTB",
        "colab": {
          "base_uri": "https://localhost:8080/"
        },
        "outputId": "41decc31-444a-4cfd-eaa0-10fbec35341b"
      },
      "outputs": [
        {
          "output_type": "stream",
          "name": "stdout",
          "text": [
            "['A', 'A', 'B', 'C', 'C', 'F']\n"
          ]
        }
      ],
      "source": [
        "stud_grades = ['A', 'A', 'B', 'C', 'C', 'F']  # Creating the list\n",
        "print(stud_grades)  # Printing the list"
      ],
      "id": "M5P_qZaTjNTB"
    },
    {
      "cell_type": "markdown",
      "metadata": {
        "id": "XazCnMcBjNTB"
      },
      "source": [
        "Print the len of stud_grades"
      ],
      "id": "XazCnMcBjNTB"
    },
    {
      "cell_type": "code",
      "execution_count": 85,
      "metadata": {
        "id": "gMMJN-V5jNTB",
        "outputId": "b234fd89-9684-4a87-db42-98462fb02cda",
        "colab": {
          "base_uri": "https://localhost:8080/"
        }
      },
      "outputs": [
        {
          "output_type": "stream",
          "name": "stdout",
          "text": [
            "Length of stud_grades: 6\n"
          ]
        }
      ],
      "source": [
        "print(\"Length of stud_grades:\", len(stud_grades))  # Printing the length of the list\n",
        "\n"
      ],
      "id": "gMMJN-V5jNTB"
    },
    {
      "cell_type": "markdown",
      "metadata": {
        "id": "ALm7hstGjNTB"
      },
      "source": [
        "Create a new variable, stud_grades_set = set(stud_grades)"
      ],
      "id": "ALm7hstGjNTB"
    },
    {
      "cell_type": "code",
      "execution_count": 86,
      "metadata": {
        "id": "1uFOjEvu5WcF"
      },
      "outputs": [],
      "source": [
        "stud_grades_set = set(stud_grades)  # Converting the list into a set\n",
        "\n"
      ],
      "id": "1uFOjEvu5WcF"
    },
    {
      "cell_type": "markdown",
      "metadata": {
        "id": "JJESkQiJjNTB"
      },
      "source": [
        "Print stud_grades_set."
      ],
      "id": "JJESkQiJjNTB"
    },
    {
      "cell_type": "code",
      "execution_count": 87,
      "metadata": {
        "id": "Q-daiiLPjNTB",
        "outputId": "a0d9df38-238c-414f-cff9-e1dbcd258766",
        "colab": {
          "base_uri": "https://localhost:8080/"
        }
      },
      "outputs": [
        {
          "output_type": "stream",
          "name": "stdout",
          "text": [
            "{'B', 'F', 'C', 'A'}\n"
          ]
        }
      ],
      "source": [
        "print(stud_grades_set)  # Printing the set\n",
        "\n"
      ],
      "id": "Q-daiiLPjNTB"
    },
    {
      "cell_type": "markdown",
      "metadata": {
        "id": "hNeCPwPOjNTC"
      },
      "source": [
        "print the type of stud_grades and stud_grades_set and print their corresponding elements. Try to understand the difference between them."
      ],
      "id": "hNeCPwPOjNTC"
    },
    {
      "cell_type": "code",
      "execution_count": 88,
      "metadata": {
        "id": "g7cntC0ojNTC",
        "outputId": "26a3fe78-6e9b-4401-d396-75da3e6e76ea",
        "colab": {
          "base_uri": "https://localhost:8080/"
        }
      },
      "outputs": [
        {
          "output_type": "stream",
          "name": "stdout",
          "text": [
            "Type of stud_grades: <class 'list'>\n",
            "Type of stud_grades_set: <class 'set'>\n"
          ]
        }
      ],
      "source": [
        "# Printing types\n",
        "print(\"Type of stud_grades:\", type(stud_grades))\n",
        "print(\"Type of stud_grades_set:\", type(stud_grades_set))\n",
        "\n",
        "\n"
      ],
      "id": "g7cntC0ojNTC"
    },
    {
      "cell_type": "code",
      "source": [
        "# Printing elements\n",
        "print(\"Elements of stud_grades:\", stud_grades)\n",
        "print(\"Elements of stud_grades_set:\", stud_grades_set)"
      ],
      "metadata": {
        "colab": {
          "base_uri": "https://localhost:8080/"
        },
        "id": "ohcCGZtuF9na",
        "outputId": "14eac54c-e1e8-4715-d0a8-7540debc1807"
      },
      "id": "ohcCGZtuF9na",
      "execution_count": 89,
      "outputs": [
        {
          "output_type": "stream",
          "name": "stdout",
          "text": [
            "Elements of stud_grades: ['A', 'A', 'B', 'C', 'C', 'F']\n",
            "Elements of stud_grades_set: {'B', 'F', 'C', 'A'}\n"
          ]
        }
      ]
    },
    {
      "cell_type": "markdown",
      "metadata": {
        "id": "WjzzJX8yjNTC"
      },
      "source": [
        "Add a new element ‘G’ to stud_grades_set"
      ],
      "id": "WjzzJX8yjNTC"
    },
    {
      "cell_type": "code",
      "execution_count": 90,
      "metadata": {
        "id": "y80DVAlRjNTC",
        "colab": {
          "base_uri": "https://localhost:8080/"
        },
        "outputId": "b913cc79-049d-4bbd-eaae-1c74e778bd69"
      },
      "outputs": [
        {
          "output_type": "stream",
          "name": "stdout",
          "text": [
            "{'G', 'F', 'B', 'C', 'A'}\n"
          ]
        }
      ],
      "source": [
        "\n",
        "stud_grades_set.add('G')  # Adding 'G' to the set\n",
        "\n",
        "print(stud_grades_set)  # Printing the updated set\n"
      ],
      "id": "y80DVAlRjNTC"
    },
    {
      "cell_type": "markdown",
      "metadata": {
        "id": "4TO9zhSJjNTC"
      },
      "source": [
        "Add element 'F' to stud_grades_set. and print it."
      ],
      "id": "4TO9zhSJjNTC"
    },
    {
      "cell_type": "code",
      "execution_count": 91,
      "metadata": {
        "id": "Bh4tc1zCjNTC",
        "outputId": "939d4c09-9140-4948-e9e0-647bbfe7e8a0",
        "colab": {
          "base_uri": "https://localhost:8080/"
        }
      },
      "outputs": [
        {
          "output_type": "stream",
          "name": "stdout",
          "text": [
            "{'G', 'F', 'B', 'C', 'A'}\n"
          ]
        }
      ],
      "source": [
        "\n",
        "stud_grades_set.add('F')  # Adding 'F' to the set\n",
        "\n",
        "print(stud_grades_set)  # Printing the updated set\n",
        "\n"
      ],
      "id": "Bh4tc1zCjNTC"
    },
    {
      "cell_type": "markdown",
      "metadata": {
        "id": "FSgM3DD5jNTD"
      },
      "source": [
        "!!Did you notice? set doesn't add an element if it's already present in it, unlike lists."
      ],
      "id": "FSgM3DD5jNTD"
    },
    {
      "cell_type": "markdown",
      "metadata": {
        "id": "tqz1GBM5jNTD"
      },
      "source": [
        "Remove ‘F’ from stud_grades_set"
      ],
      "id": "tqz1GBM5jNTD"
    },
    {
      "cell_type": "code",
      "execution_count": 92,
      "metadata": {
        "id": "zOLBDdk0jNTD",
        "colab": {
          "base_uri": "https://localhost:8080/"
        },
        "outputId": "2b5775fc-f74b-4cd7-c9e8-4918e62892fb"
      },
      "outputs": [
        {
          "output_type": "stream",
          "name": "stdout",
          "text": [
            "{'G', 'B', 'C', 'A'}\n"
          ]
        }
      ],
      "source": [
        "stud_grades_set.remove('F')  # Removing 'F' from the set\n",
        "\n",
        "print(stud_grades_set)  # Printing the updated set\n",
        "\n",
        "\n"
      ],
      "id": "zOLBDdk0jNTD"
    },
    {
      "cell_type": "markdown",
      "metadata": {
        "id": "wxMXywoRjNTD"
      },
      "source": [
        "Print the elements and the length of stud_grades_set"
      ],
      "id": "wxMXywoRjNTD"
    },
    {
      "cell_type": "code",
      "execution_count": 93,
      "metadata": {
        "id": "lS582g27jNTD",
        "outputId": "3997381a-9bc8-417b-b581-fedeee5f845a",
        "colab": {
          "base_uri": "https://localhost:8080/"
        }
      },
      "outputs": [
        {
          "output_type": "stream",
          "name": "stdout",
          "text": [
            "Elements of stud_grades_set: {'G', 'B', 'C', 'A'}\n",
            "Length of stud_grades_set: 4\n"
          ]
        }
      ],
      "source": [
        "# Printing elements and length\n",
        "print(\"Elements of stud_grades_set:\", stud_grades_set)\n",
        "print(\"Length of stud_grades_set:\", len(stud_grades_set))\n",
        "\n",
        "\n"
      ],
      "id": "lS582g27jNTD"
    },
    {
      "cell_type": "markdown",
      "metadata": {
        "id": "FctCYkNBjNTD"
      },
      "source": [
        "### Create colors = [‘red’,’blue’,’orange’], and fruits = [‘orange’,’grapes’,’apples’]"
      ],
      "id": "FctCYkNBjNTD"
    },
    {
      "cell_type": "code",
      "execution_count": 94,
      "metadata": {
        "id": "M4lmxQ6F5WcI"
      },
      "outputs": [],
      "source": [
        "colors = ['red', 'blue', 'orange']  # Creating the colors list\n",
        "fruits = ['orange', 'grapes', 'apples']  # Creating the fruits list"
      ],
      "id": "M4lmxQ6F5WcI"
    },
    {
      "cell_type": "markdown",
      "metadata": {
        "id": "kfIRtvphjNTE"
      },
      "source": [
        "Print color and fruits"
      ],
      "id": "kfIRtvphjNTE"
    },
    {
      "cell_type": "code",
      "execution_count": 95,
      "metadata": {
        "id": "q-gavK0-jNTE",
        "outputId": "c87416cc-e41e-4d7c-a721-7792c09c7513",
        "colab": {
          "base_uri": "https://localhost:8080/"
        }
      },
      "outputs": [
        {
          "output_type": "stream",
          "name": "stdout",
          "text": [
            "Colors: ['red', 'blue', 'orange']\n",
            "Fruits: ['orange', 'grapes', 'apples']\n"
          ]
        }
      ],
      "source": [
        "print(\"Colors:\", colors)  # Printing colors list\n",
        "print(\"Fruits:\", fruits)  # Printing fruits list\n"
      ],
      "id": "q-gavK0-jNTE"
    },
    {
      "cell_type": "markdown",
      "metadata": {
        "id": "uMOTrWwSjNTE"
      },
      "source": [
        "Create colors_set, and fruits_set. (using set() ) and print them"
      ],
      "id": "uMOTrWwSjNTE"
    },
    {
      "cell_type": "code",
      "execution_count": 96,
      "metadata": {
        "colab": {
          "base_uri": "https://localhost:8080/"
        },
        "id": "G6liuJJM5WcJ",
        "outputId": "4bd6bf40-d47d-4c54-9fd1-ac87fe5d6044"
      },
      "outputs": [
        {
          "output_type": "stream",
          "name": "stdout",
          "text": [
            "Colors Set: {'orange', 'blue', 'red'}\n",
            "Fruits Set: {'orange', 'grapes', 'apples'}\n"
          ]
        }
      ],
      "source": [
        "# Creating the lists\n",
        "colors = ['red', 'blue', 'orange']\n",
        "fruits = ['orange', 'grapes', 'apples']\n",
        "\n",
        "# Converting lists to sets\n",
        "colors_set = set(colors)\n",
        "fruits_set = set(fruits)\n",
        "\n",
        "# Printing the sets\n",
        "print(\"Colors Set:\", colors_set)\n",
        "print(\"Fruits Set:\", fruits_set)"
      ],
      "id": "G6liuJJM5WcJ"
    },
    {
      "cell_type": "markdown",
      "metadata": {
        "id": "tW9fj0R1jNTE"
      },
      "source": [
        "Find the union of both the sets."
      ],
      "id": "tW9fj0R1jNTE"
    },
    {
      "cell_type": "code",
      "execution_count": 97,
      "metadata": {
        "id": "oyskI_CTjNTE",
        "outputId": "0904b042-386f-46f2-ca7a-54bb482610ae",
        "colab": {
          "base_uri": "https://localhost:8080/"
        }
      },
      "outputs": [
        {
          "output_type": "stream",
          "name": "stdout",
          "text": [
            "Union of colors_set and fruits_set: {'orange', 'grapes', 'red', 'blue', 'apples'}\n"
          ]
        }
      ],
      "source": [
        "# Creating the lists\n",
        "colors = ['red', 'blue', 'orange']\n",
        "fruits = ['orange', 'grapes', 'apples']\n",
        "\n",
        "# Converting lists to sets\n",
        "colors_set = set(colors)\n",
        "fruits_set = set(fruits)\n",
        "\n",
        "# Finding the union of both sets\n",
        "union_set = colors_set.union(fruits_set)  # Using union() method\n",
        "# OR\n",
        "# union_set = colors_set | fruits_set  # Using '|' operator\n",
        "\n",
        "# Printing the union set\n",
        "print(\"Union of colors_set and fruits_set:\", union_set)\n",
        "\n",
        "\n"
      ],
      "id": "oyskI_CTjNTE"
    },
    {
      "cell_type": "markdown",
      "metadata": {
        "id": "3yXYgYBLjNTF"
      },
      "source": [
        "Find the intersection of both the sets"
      ],
      "id": "3yXYgYBLjNTF"
    },
    {
      "cell_type": "code",
      "execution_count": 98,
      "metadata": {
        "id": "3AzYqu5sjNTF",
        "outputId": "2a6a491b-d055-4652-bc49-2aa5490a289b",
        "colab": {
          "base_uri": "https://localhost:8080/"
        }
      },
      "outputs": [
        {
          "output_type": "stream",
          "name": "stdout",
          "text": [
            "Intersection of colors_set and fruits_set: {'orange'}\n"
          ]
        }
      ],
      "source": [
        "# Creating the lists\n",
        "colors = ['red', 'blue', 'orange']\n",
        "fruits = ['orange', 'grapes', 'apples']\n",
        "\n",
        "# Converting lists to sets\n",
        "colors_set = set(colors)\n",
        "fruits_set = set(fruits)\n",
        "\n",
        "# Finding the intersection of both sets\n",
        "intersection_set = colors_set.intersection(fruits_set)  # Using intersection() method\n",
        "# OR\n",
        "# intersection_set = colors_set & fruits_set  # Using '&' operator\n",
        "\n",
        "# Printing the intersection set\n",
        "print(\"Intersection of colors_set and fruits_set:\", intersection_set)\n",
        "\n"
      ],
      "id": "3AzYqu5sjNTF"
    },
    {
      "cell_type": "markdown",
      "metadata": {
        "id": "PuhlSjH_jNTF"
      },
      "source": [
        "Find the elements which are Fruits but not colors (using set.difference() )"
      ],
      "id": "PuhlSjH_jNTF"
    },
    {
      "cell_type": "code",
      "execution_count": 99,
      "metadata": {
        "id": "gBaxHXrfjNTF",
        "outputId": "65543725-8914-4cb0-ec83-0c893a41aaa8",
        "colab": {
          "base_uri": "https://localhost:8080/"
        }
      },
      "outputs": [
        {
          "output_type": "stream",
          "name": "stdout",
          "text": [
            "Elements in fruits but not in colors: {'grapes', 'apples'}\n"
          ]
        }
      ],
      "source": [
        "# Finding elements in fruits_set but not in colors_set\n",
        "fruits_not_colors = fruits_set.difference(colors_set)  # Using difference() method\n",
        "# OR\n",
        "# fruits_not_colors = fruits_set - colors_set  # Using '-' operator\n",
        "\n",
        "# Printing the result\n",
        "print(\"Elements in fruits but not in colors:\", fruits_not_colors)\n",
        "\n"
      ],
      "id": "gBaxHXrfjNTF"
    },
    {
      "cell_type": "code",
      "execution_count": null,
      "metadata": {
        "id": "frPbAXvB5WcK"
      },
      "outputs": [],
      "source": [],
      "id": "frPbAXvB5WcK"
    },
    {
      "cell_type": "markdown",
      "metadata": {
        "id": "hLZeBta3jNTF"
      },
      "source": [
        "## TUPLES"
      ],
      "id": "hLZeBta3jNTF"
    },
    {
      "cell_type": "markdown",
      "metadata": {
        "id": "Nerhdg66jNTF"
      },
      "source": [
        "### Create temp = [17, ’Virat’, 50.0]"
      ],
      "id": "Nerhdg66jNTF"
    },
    {
      "cell_type": "code",
      "execution_count": 100,
      "metadata": {
        "colab": {
          "base_uri": "https://localhost:8080/"
        },
        "id": "-Qjch6Gy5WcL",
        "outputId": "05455819-303c-4d64-837b-cd83999f5977"
      },
      "outputs": [
        {
          "output_type": "stream",
          "name": "stdout",
          "text": [
            "[17, 'Virat', 50.0]\n"
          ]
        }
      ],
      "source": [
        "temp = [17, 'Virat', 50.0]  # Creating the list\n",
        "\n",
        "print(temp)  # Printing the list"
      ],
      "id": "-Qjch6Gy5WcL"
    },
    {
      "cell_type": "markdown",
      "metadata": {
        "id": "C0IuMJFijNTG"
      },
      "source": [
        "Iterate through temp and print all the items in temp"
      ],
      "id": "C0IuMJFijNTG"
    },
    {
      "cell_type": "code",
      "execution_count": 101,
      "metadata": {
        "id": "CSKY_cgHjNTG",
        "outputId": "417b539d-9916-48ad-e315-1a88e6db27a9",
        "colab": {
          "base_uri": "https://localhost:8080/"
        }
      },
      "outputs": [
        {
          "output_type": "stream",
          "name": "stdout",
          "text": [
            "17\n",
            "Virat\n",
            "50.0\n"
          ]
        }
      ],
      "source": [
        "temp = [17, 'Virat', 50.0]  # Creating the list\n",
        "\n",
        "# Iterating through temp and printing each item\n",
        "for item in temp:\n",
        "    print(item)\n"
      ],
      "id": "CSKY_cgHjNTG"
    },
    {
      "cell_type": "markdown",
      "metadata": {
        "id": "gI0kBGQ1jNTG"
      },
      "source": [
        "replace first element with 11 in temp"
      ],
      "id": "gI0kBGQ1jNTG"
    },
    {
      "cell_type": "code",
      "execution_count": 102,
      "metadata": {
        "id": "p6JCtyOBjNTG",
        "colab": {
          "base_uri": "https://localhost:8080/"
        },
        "outputId": "f9746f56-143b-42bb-b82e-eabfcf9c22dd"
      },
      "outputs": [
        {
          "output_type": "stream",
          "name": "stdout",
          "text": [
            "[11, 'Virat', 50.0]\n"
          ]
        }
      ],
      "source": [
        "temp[0] = 11  # Replacing the first element\n",
        "\n",
        "print(temp)  # Printing the updated list"
      ],
      "id": "p6JCtyOBjNTG"
    },
    {
      "cell_type": "markdown",
      "metadata": {
        "id": "JV3b34AdjNTG"
      },
      "source": [
        "Set temp1 = tuple(temp)"
      ],
      "id": "JV3b34AdjNTG"
    },
    {
      "cell_type": "code",
      "execution_count": 103,
      "metadata": {
        "colab": {
          "base_uri": "https://localhost:8080/"
        },
        "id": "O4yQCSZP5WcN",
        "outputId": "ff8edf12-045c-4289-eb29-30f508e1b902"
      },
      "outputs": [
        {
          "output_type": "stream",
          "name": "stdout",
          "text": [
            "(11, 'Virat', 50.0)\n",
            "<class 'tuple'>\n"
          ]
        }
      ],
      "source": [
        "temp = [11, 'Virat', 50.0]  # Updated list\n",
        "\n",
        "temp1 = tuple(temp)  # Converting list to tuple\n",
        "\n",
        "print(temp1)  # Printing the tuple\n",
        "print(type(temp1))  # Checking the type"
      ],
      "id": "O4yQCSZP5WcN"
    },
    {
      "cell_type": "markdown",
      "metadata": {
        "id": "Z9LJWgBkjNTG"
      },
      "source": [
        "Iterate through temp1 and print all the items in temp1."
      ],
      "id": "Z9LJWgBkjNTG"
    },
    {
      "cell_type": "code",
      "execution_count": 104,
      "metadata": {
        "id": "t0v-FZsNjNTH",
        "outputId": "0bf71a20-2568-4f6e-d85f-85020bbf4b73",
        "colab": {
          "base_uri": "https://localhost:8080/"
        }
      },
      "outputs": [
        {
          "output_type": "stream",
          "name": "stdout",
          "text": [
            "11\n",
            "Virat\n",
            "50.0\n"
          ]
        }
      ],
      "source": [
        "temp1 = tuple(temp)  # Converting list to tuple\n",
        "\n",
        "# Iterating through temp1 and printing each item\n",
        "for item in temp1:\n",
        "    print(item)\n",
        "\n",
        "\n"
      ],
      "id": "t0v-FZsNjNTH"
    },
    {
      "cell_type": "markdown",
      "metadata": {
        "id": "A4FXMQDfjNTH"
      },
      "source": [
        "replace first element with 17 in temp1"
      ],
      "id": "A4FXMQDfjNTH"
    },
    {
      "cell_type": "code",
      "execution_count": 105,
      "metadata": {
        "id": "eioDSdW8jNTH",
        "outputId": "27581f8b-3d1e-4b29-8404-f219585652cc",
        "colab": {
          "base_uri": "https://localhost:8080/"
        }
      },
      "outputs": [
        {
          "output_type": "stream",
          "name": "stdout",
          "text": [
            "(17, 'Virat', 50.0)\n"
          ]
        }
      ],
      "source": [
        "# Creating a new tuple with the first element replaced\n",
        "temp1 = (17,) + temp1[1:]\n",
        "\n",
        "print(temp1)  # Printing the updated tuple\n",
        "\n",
        "\n"
      ],
      "id": "eioDSdW8jNTH"
    },
    {
      "cell_type": "markdown",
      "metadata": {
        "id": "IuGIObFZjNTH"
      },
      "source": [
        "<b>Oops!! You got an error. Hey Don't worry! Its because Once a tuple is created, you cannot change its values unlike list.</b>"
      ],
      "id": "IuGIObFZjNTH"
    },
    {
      "cell_type": "markdown",
      "metadata": {
        "id": "ExB_cM1ZjNTH"
      },
      "source": [
        "### Create city = (\"Bangalore\", 28.9949521, 72)"
      ],
      "id": "ExB_cM1ZjNTH"
    },
    {
      "cell_type": "code",
      "execution_count": 106,
      "metadata": {
        "id": "fWz52DjjjNTH",
        "colab": {
          "base_uri": "https://localhost:8080/"
        },
        "outputId": "ca19adad-2875-48c0-bc3f-dc2e9f9661ed"
      },
      "outputs": [
        {
          "output_type": "stream",
          "name": "stdout",
          "text": [
            "('Bangalore', 28.9949521, 72)\n",
            "<class 'tuple'>\n"
          ]
        }
      ],
      "source": [
        "city = (\"Bangalore\", 28.9949521, 72)  # Creating the tuple\n",
        "\n",
        "print(city)  # Printing the tuple\n",
        "print(type(city))  # Checking the type"
      ],
      "id": "fWz52DjjjNTH"
    },
    {
      "cell_type": "markdown",
      "metadata": {
        "id": "v4ipyqXsjNTH"
      },
      "source": [
        "Print first element of city"
      ],
      "id": "v4ipyqXsjNTH"
    },
    {
      "cell_type": "code",
      "execution_count": 107,
      "metadata": {
        "id": "KJHMuFk1jNTI",
        "outputId": "58a98c4d-49e3-438c-84b6-203c98fad975",
        "colab": {
          "base_uri": "https://localhost:8080/"
        }
      },
      "outputs": [
        {
          "output_type": "stream",
          "name": "stdout",
          "text": [
            "Bangalore\n"
          ]
        }
      ],
      "source": [
        "city = (\"Bangalore\", 28.9949521, 72)  # Creating the tuple\n",
        "\n",
        "print(city[0])  # Printing the first element"
      ],
      "id": "KJHMuFk1jNTI"
    },
    {
      "cell_type": "markdown",
      "metadata": {
        "id": "N5FoHg4ujNTI"
      },
      "source": [
        "Create city2 = (‘Chennai’, 30.01, 74)"
      ],
      "id": "N5FoHg4ujNTI"
    },
    {
      "cell_type": "code",
      "execution_count": 108,
      "metadata": {
        "id": "fYuGqbDEjNTI",
        "colab": {
          "base_uri": "https://localhost:8080/"
        },
        "outputId": "43cc6f98-fd31-45fa-f4a1-447250214468"
      },
      "outputs": [
        {
          "output_type": "stream",
          "name": "stdout",
          "text": [
            "('Chennai', 30.01, 74)\n",
            "<class 'tuple'>\n"
          ]
        }
      ],
      "source": [
        "city2 = ('Chennai', 30.01, 74)  # Creating the tuple\n",
        "\n",
        "print(city2)  # Printing the tuple\n",
        "print(type(city2))  # Checking the type"
      ],
      "id": "fYuGqbDEjNTI"
    },
    {
      "cell_type": "markdown",
      "metadata": {
        "id": "0gz-HACUjNTI"
      },
      "source": [
        "Create cities which consist of city and city2"
      ],
      "id": "0gz-HACUjNTI"
    },
    {
      "cell_type": "code",
      "execution_count": 109,
      "metadata": {
        "id": "5dTN1LQPjNTI"
      },
      "outputs": [],
      "source": [
        "city = (\"Bangalore\", 28.9949521, 72)\n",
        "city2 = (\"Chennai\", 30.01, 74)\n",
        "\n",
        "# Creating a tuple of tuples\n",
        "cities = (city, city2)\n",
        "\n"
      ],
      "id": "5dTN1LQPjNTI"
    },
    {
      "cell_type": "markdown",
      "metadata": {
        "id": "He-teRi2jNTI"
      },
      "source": [
        "Print cities"
      ],
      "id": "He-teRi2jNTI"
    },
    {
      "cell_type": "code",
      "execution_count": 111,
      "metadata": {
        "id": "ISySNfxGjNTI",
        "outputId": "7421ab17-7dfc-4a77-b03a-bfdbe465c5f3",
        "colab": {
          "base_uri": "https://localhost:8080/"
        }
      },
      "outputs": [
        {
          "output_type": "stream",
          "name": "stdout",
          "text": [
            "(('Bangalore', 28.9949521, 72), ('Chennai', 30.01, 74))\n"
          ]
        }
      ],
      "source": [
        "print(cities)  # Printing the tuple of cities\n"
      ],
      "id": "ISySNfxGjNTI"
    },
    {
      "cell_type": "markdown",
      "metadata": {
        "id": "brFx6-rtjNTJ"
      },
      "source": [
        "Print type of first element in cities"
      ],
      "id": "brFx6-rtjNTJ"
    },
    {
      "cell_type": "code",
      "execution_count": 113,
      "metadata": {
        "id": "CmIifGybjNTJ",
        "outputId": "aa3fb5c6-51e5-4b90-ab52-870f2641df56",
        "colab": {
          "base_uri": "https://localhost:8080/"
        }
      },
      "outputs": [
        {
          "output_type": "stream",
          "name": "stdout",
          "text": [
            "<class 'tuple'>\n"
          ]
        }
      ],
      "source": [
        "print(type(cities[0]))"
      ],
      "id": "CmIifGybjNTJ"
    },
    {
      "cell_type": "markdown",
      "metadata": {
        "id": "jtk8J_yHjNTJ"
      },
      "source": [
        "print the type of cities\n"
      ],
      "id": "jtk8J_yHjNTJ"
    },
    {
      "cell_type": "code",
      "execution_count": 114,
      "metadata": {
        "id": "y9rdG29XjNTJ",
        "outputId": "02e1ae79-ce29-4797-f301-24eec81091af",
        "colab": {
          "base_uri": "https://localhost:8080/"
        }
      },
      "outputs": [
        {
          "output_type": "stream",
          "name": "stdout",
          "text": [
            "<class 'tuple'>\n"
          ]
        }
      ],
      "source": [
        "print(type(cities))"
      ],
      "id": "y9rdG29XjNTJ"
    },
    {
      "cell_type": "markdown",
      "metadata": {
        "id": "uXHSadWqjNTJ"
      },
      "source": [
        "Hey that implies you made a nested tuples!!"
      ],
      "id": "uXHSadWqjNTJ"
    },
    {
      "cell_type": "markdown",
      "metadata": {
        "id": "zViY-S_djNTJ"
      },
      "source": [
        "## DICTIONARY"
      ],
      "id": "zViY-S_djNTJ"
    },
    {
      "cell_type": "markdown",
      "metadata": {
        "id": "4NjUxRaZjNTK"
      },
      "source": [
        "### Create a dictionary d = {\"actor\":\"amir\",\"animal\":\"cat\",\"earth\":2,\"list\":[23,32,12]}"
      ],
      "id": "4NjUxRaZjNTK"
    },
    {
      "cell_type": "code",
      "execution_count": 115,
      "metadata": {
        "id": "UCtEFPI4jNTK"
      },
      "outputs": [],
      "source": [
        "d = {\n",
        "    \"actor\": \"amir\",\n",
        "    \"animal\": \"cat\",\n",
        "    \"earth\": 2,\n",
        "    \"list\": [23, 32, 12]\n",
        "}"
      ],
      "id": "UCtEFPI4jNTK"
    },
    {
      "cell_type": "markdown",
      "metadata": {
        "id": "OamenDk8jNTK"
      },
      "source": [
        "Print the value of d[0]"
      ],
      "id": "OamenDk8jNTK"
    },
    {
      "cell_type": "code",
      "execution_count": 116,
      "metadata": {
        "id": "gion3awcjNTK",
        "outputId": "ca04bf2f-0ba0-4fef-e9ba-031083ab2b33",
        "colab": {
          "base_uri": "https://localhost:8080/",
          "height": 141
        }
      },
      "outputs": [
        {
          "output_type": "error",
          "ename": "KeyError",
          "evalue": "0",
          "traceback": [
            "\u001b[0;31m---------------------------------------------------------------------------\u001b[0m",
            "\u001b[0;31mKeyError\u001b[0m                                  Traceback (most recent call last)",
            "\u001b[0;32m<ipython-input-116-ffd574157794>\u001b[0m in \u001b[0;36m<cell line: 0>\u001b[0;34m()\u001b[0m\n\u001b[0;32m----> 1\u001b[0;31m \u001b[0mprint\u001b[0m\u001b[0;34m(\u001b[0m\u001b[0md\u001b[0m\u001b[0;34m[\u001b[0m\u001b[0;36m0\u001b[0m\u001b[0;34m]\u001b[0m\u001b[0;34m)\u001b[0m  \u001b[0;31m# This will cause a KeyError\u001b[0m\u001b[0;34m\u001b[0m\u001b[0;34m\u001b[0m\u001b[0m\n\u001b[0m",
            "\u001b[0;31mKeyError\u001b[0m: 0"
          ]
        }
      ],
      "source": [
        "print(d[0])  # This will cause a KeyError"
      ],
      "id": "gion3awcjNTK"
    },
    {
      "cell_type": "markdown",
      "metadata": {
        "id": "XYtrrUigjNTK"
      },
      "source": [
        "<b>Oops!! again an error. again a fun fact. Dictionary return the value for key if key is in the dictionary, else throws KeyError\n",
        "and we don't have key 0 here :( </b>"
      ],
      "id": "XYtrrUigjNTK"
    },
    {
      "cell_type": "markdown",
      "metadata": {
        "id": "62VXYnw1jNTK"
      },
      "source": [
        "Store the value of d[‘actor’] to a new variable actor."
      ],
      "id": "62VXYnw1jNTK"
    },
    {
      "cell_type": "code",
      "execution_count": 117,
      "metadata": {
        "id": "kkBfNz81jNTK",
        "colab": {
          "base_uri": "https://localhost:8080/"
        },
        "outputId": "b71c9f3c-54d2-4fc1-aace-f78ef7d07d99"
      },
      "outputs": [
        {
          "output_type": "stream",
          "name": "stdout",
          "text": [
            "amir\n"
          ]
        }
      ],
      "source": [
        "d = {\n",
        "    \"actor\": \"amir\",\n",
        "    \"animal\": \"cat\",\n",
        "    \"earth\": 2,\n",
        "    \"list\": [23, 32, 12]\n",
        "}\n",
        "\n",
        "# Storing the value of 'actor' key in a new variable\n",
        "actor = d[\"actor\"]\n",
        "\n",
        "print(actor)  # Printing the value of actor\n"
      ],
      "id": "kkBfNz81jNTK"
    },
    {
      "cell_type": "markdown",
      "metadata": {
        "id": "uFfuF569jNTL"
      },
      "source": [
        "Print the type of actor"
      ],
      "id": "uFfuF569jNTL"
    },
    {
      "cell_type": "code",
      "execution_count": 118,
      "metadata": {
        "id": "bKbFXBxyjNTL",
        "outputId": "ac589201-2f40-49c1-e7ed-2e77c7e98d55",
        "colab": {
          "base_uri": "https://localhost:8080/"
        }
      },
      "outputs": [
        {
          "output_type": "stream",
          "name": "stdout",
          "text": [
            "<class 'str'>\n"
          ]
        }
      ],
      "source": [
        "print(type(actor))"
      ],
      "id": "bKbFXBxyjNTL"
    },
    {
      "cell_type": "markdown",
      "metadata": {
        "id": "y549qN04jNTL"
      },
      "source": [
        "Store the value of d[‘list’] in new variable List."
      ],
      "id": "y549qN04jNTL"
    },
    {
      "cell_type": "code",
      "execution_count": 119,
      "metadata": {
        "id": "I7GyOK8DjNTL",
        "colab": {
          "base_uri": "https://localhost:8080/"
        },
        "outputId": "957bdea2-6608-4d61-bbc7-9527203b8b7f"
      },
      "outputs": [
        {
          "output_type": "stream",
          "name": "stdout",
          "text": [
            "[23, 32, 12]\n"
          ]
        }
      ],
      "source": [
        "# Storing the value of 'list' key in a new variable\n",
        "List = d[\"list\"]\n",
        "\n",
        "print(List)  # Printing the value of List\n"
      ],
      "id": "I7GyOK8DjNTL"
    },
    {
      "cell_type": "markdown",
      "metadata": {
        "id": "Ul1YMiuNjNTL"
      },
      "source": [
        "Print the type of List."
      ],
      "id": "Ul1YMiuNjNTL"
    },
    {
      "cell_type": "code",
      "execution_count": 120,
      "metadata": {
        "id": "V0VdG9y_jNTL",
        "outputId": "760d0b58-6481-4f9f-eb1b-d96371584b35",
        "colab": {
          "base_uri": "https://localhost:8080/"
        }
      },
      "outputs": [
        {
          "output_type": "stream",
          "name": "stdout",
          "text": [
            "<class 'list'>\n"
          ]
        }
      ],
      "source": [
        "print(type(List))  # Printing the type of List"
      ],
      "id": "V0VdG9y_jNTL"
    },
    {
      "cell_type": "markdown",
      "metadata": {
        "id": "A0CEMABhjNTL"
      },
      "source": [
        "Create d1 = { ‘singer’ : ‘Kr$na’ , ‘album’: ‘Still here’, ‘genre’ : ‘hip-hop’}"
      ],
      "id": "A0CEMABhjNTL"
    },
    {
      "cell_type": "code",
      "execution_count": 121,
      "metadata": {
        "id": "FCGCw5FEjNTL"
      },
      "outputs": [],
      "source": [
        "d1 = {\n",
        "    \"singer\": \"Kr$na\",\n",
        "    \"album\": \"Still here\",\n",
        "    \"genre\": \"hip-hop\"\n",
        "}\n"
      ],
      "id": "FCGCw5FEjNTL"
    },
    {
      "cell_type": "markdown",
      "metadata": {
        "id": "ybGIILrLjNTM"
      },
      "source": [
        "Merge d1 into d."
      ],
      "id": "ybGIILrLjNTM"
    },
    {
      "cell_type": "code",
      "execution_count": 122,
      "metadata": {
        "id": "UmDbbQJPjNTM"
      },
      "outputs": [],
      "source": [
        "d = {\n",
        "    \"actor\": \"amir\",\n",
        "    \"animal\": \"cat\",\n",
        "    \"earth\": 2,\n",
        "    \"list\": [23, 32, 12]\n",
        "}\n",
        "\n",
        "d1 = {\n",
        "    \"singer\": \"Kr$na\",\n",
        "    \"album\": \"Still here\",\n",
        "    \"genre\": \"hip-hop\"\n",
        "}\n",
        "\n",
        "# Merging d1 into d\n",
        "d.update(d1)\n",
        "\n"
      ],
      "id": "UmDbbQJPjNTM"
    },
    {
      "cell_type": "markdown",
      "metadata": {
        "id": "jhAPX45ZjNTM"
      },
      "source": [
        "print d"
      ],
      "id": "jhAPX45ZjNTM"
    },
    {
      "cell_type": "code",
      "execution_count": 123,
      "metadata": {
        "id": "785S26ryjNTM",
        "outputId": "51525f4f-5559-4aab-f106-2c4dd9382d86",
        "colab": {
          "base_uri": "https://localhost:8080/"
        }
      },
      "outputs": [
        {
          "output_type": "stream",
          "name": "stdout",
          "text": [
            "{'actor': 'amir', 'animal': 'cat', 'earth': 2, 'list': [23, 32, 12], 'singer': 'Kr$na', 'album': 'Still here', 'genre': 'hip-hop'}\n"
          ]
        }
      ],
      "source": [
        "print(d)  # Printing the updated dictionary"
      ],
      "id": "785S26ryjNTM"
    },
    {
      "cell_type": "markdown",
      "metadata": {
        "id": "9E852mY2jNTM"
      },
      "source": [
        "Print all the keys in d"
      ],
      "id": "9E852mY2jNTM"
    },
    {
      "cell_type": "code",
      "execution_count": 124,
      "metadata": {
        "id": "7K843OrLjNTM",
        "outputId": "fe5b4293-58e1-4e8f-f8ec-ce121b84a2b1",
        "colab": {
          "base_uri": "https://localhost:8080/"
        }
      },
      "outputs": [
        {
          "output_type": "stream",
          "name": "stdout",
          "text": [
            "dict_keys(['actor', 'animal', 'earth', 'list', 'singer', 'album', 'genre'])\n"
          ]
        }
      ],
      "source": [
        "print(d.keys())  # Printing all keys in dictionary d"
      ],
      "id": "7K843OrLjNTM"
    },
    {
      "cell_type": "markdown",
      "metadata": {
        "id": "fiuzxbGkjNTN"
      },
      "source": [
        "Print all the values in d"
      ],
      "id": "fiuzxbGkjNTN"
    },
    {
      "cell_type": "code",
      "execution_count": 125,
      "metadata": {
        "id": "Pyhh6r0pjNTN",
        "outputId": "38ece548-07e2-4b3c-a9d1-3fc2d33e07f4",
        "colab": {
          "base_uri": "https://localhost:8080/"
        }
      },
      "outputs": [
        {
          "output_type": "stream",
          "name": "stdout",
          "text": [
            "dict_values(['amir', 'cat', 2, [23, 32, 12], 'Kr$na', 'Still here', 'hip-hop'])\n"
          ]
        }
      ],
      "source": [
        "print(d.values())  # Printing all values in dictionary d"
      ],
      "id": "Pyhh6r0pjNTN"
    },
    {
      "cell_type": "markdown",
      "metadata": {
        "id": "XSoe8GWmjNTN"
      },
      "source": [
        "Iterate over d, and print each key, value pair as this - (actor ----> amir)"
      ],
      "id": "XSoe8GWmjNTN"
    },
    {
      "cell_type": "code",
      "execution_count": 126,
      "metadata": {
        "id": "O0iW9kiqjNTO",
        "outputId": "e4d96de9-915a-4e71-e665-50e49a025175",
        "colab": {
          "base_uri": "https://localhost:8080/"
        }
      },
      "outputs": [
        {
          "output_type": "stream",
          "name": "stdout",
          "text": [
            "actor ----> amir\n",
            "animal ----> cat\n",
            "earth ----> 2\n",
            "list ----> [23, 32, 12]\n",
            "singer ----> Kr$na\n",
            "album ----> Still here\n",
            "genre ----> hip-hop\n"
          ]
        }
      ],
      "source": [
        "for key, value in d.items():\n",
        "    print(f\"{key} ----> {value}\")"
      ],
      "id": "O0iW9kiqjNTO"
    },
    {
      "cell_type": "markdown",
      "metadata": {
        "id": "Hhzm-EIsjNTO"
      },
      "source": [
        "count the number of occurences of charachters in string named \"sent\" using dictionary and print the same.\n"
      ],
      "id": "Hhzm-EIsjNTO"
    },
    {
      "cell_type": "code",
      "execution_count": 127,
      "metadata": {
        "id": "IvRlvUAljNTP",
        "outputId": "b5a7313e-90b3-44ad-f0f1-8ec4c54df34c",
        "colab": {
          "base_uri": "https://localhost:8080/"
        }
      },
      "outputs": [
        {
          "output_type": "stream",
          "name": "stdout",
          "text": [
            "{'C': 2, 'o': 6, 'r': 4, 'n': 3, 'a': 2, 'v': 1, 'i': 1, 'u': 3, 's': 3, ' ': 5, 'e': 2, 'd': 4, 'L': 1, 'c': 1, 'k': 1, 'w': 1, 'A': 1, 'T': 1, 'h': 1, 'W': 1, 'l': 1, '.': 1}\n"
          ]
        }
      ],
      "source": [
        "sent = \"Coronavirus Caused Lockdowns Around The World.\"\n",
        "\n",
        "# Creating an empty dictionary to store character counts\n",
        "char_count = {}\n",
        "\n",
        "# Iterating over each character in the string\n",
        "for char in sent:\n",
        "    if char in char_count:\n",
        "        char_count[char] += 1  # Increment count if character exists\n",
        "    else:\n",
        "        char_count[char] = 1  # Initialize count if character appears first time\n",
        "\n",
        "# Printing the dictionary with character counts\n",
        "print(char_count)\n",
        "\n"
      ],
      "id": "IvRlvUAljNTP"
    },
    {
      "cell_type": "code",
      "execution_count": null,
      "metadata": {
        "id": "ebNwyxUujNTP"
      },
      "outputs": [],
      "source": [],
      "id": "ebNwyxUujNTP"
    }
  ],
  "metadata": {
    "colab": {
      "provenance": [],
      "include_colab_link": true
    },
    "kernelspec": {
      "display_name": "Python 3",
      "language": "python",
      "name": "python3"
    },
    "language_info": {
      "codemirror_mode": {
        "name": "ipython",
        "version": 3
      },
      "file_extension": ".py",
      "mimetype": "text/x-python",
      "name": "python",
      "nbconvert_exporter": "python",
      "pygments_lexer": "ipython3",
      "version": "3.7.4"
    }
  },
  "nbformat": 4,
  "nbformat_minor": 5
}