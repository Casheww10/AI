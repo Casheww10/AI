{
  "nbformat": 4,
  "nbformat_minor": 0,
  "metadata": {
    "colab": {
      "provenance": [],
      "authorship_tag": "ABX9TyMFl+ahC41lNmTJtreHzBT2",
      "include_colab_link": true
    },
    "kernelspec": {
      "name": "python3",
      "display_name": "Python 3"
    },
    "language_info": {
      "name": "python"
    }
  },
  "cells": [
    {
      "cell_type": "markdown",
      "metadata": {
        "id": "view-in-github",
        "colab_type": "text"
      },
      "source": [
        "<a href=\"https://colab.research.google.com/github/Casheww10/AI/blob/main/1_Syntax_and_comments.ipynb\" target=\"_parent\"><img src=\"https://colab.research.google.com/assets/colab-badge.svg\" alt=\"Open In Colab\"/></a>"
      ]
    },
    {
      "cell_type": "code",
      "execution_count": 1,
      "metadata": {
        "id": "0ZII5Ab8q5SQ"
      },
      "outputs": [],
      "source": [
        "name=\"kajol\""
      ]
    },
    {
      "cell_type": "code",
      "source": [
        "print(name)"
      ],
      "metadata": {
        "colab": {
          "base_uri": "https://localhost:8080/"
        },
        "id": "OgKMQhCCtm00",
        "outputId": "cd50f185-a818-4a11-ba34-077dd07882aa"
      },
      "execution_count": 2,
      "outputs": [
        {
          "output_type": "stream",
          "name": "stdout",
          "text": [
            "kajol\n"
          ]
        }
      ]
    },
    {
      "cell_type": "code",
      "source": [
        "a = 'kajol' #This is my name\n",
        "print(a)"
      ],
      "metadata": {
        "colab": {
          "base_uri": "https://localhost:8080/"
        },
        "id": "bXnN5ydGwFOW",
        "outputId": "1dbf9696-fa17-498d-9517-fe7877ee1646"
      },
      "execution_count": 31,
      "outputs": [
        {
          "output_type": "stream",
          "name": "stdout",
          "text": [
            "kajol\n"
          ]
        }
      ]
    },
    {
      "cell_type": "code",
      "source": [
        "kajol = 'kajol'\n",
        "print(kajol)"
      ],
      "metadata": {
        "colab": {
          "base_uri": "https://localhost:8080/"
        },
        "id": "0zhZyFIBwEEF",
        "outputId": "24031cd6-e463-4aec-a561-81e602dd8498"
      },
      "execution_count": 33,
      "outputs": [
        {
          "output_type": "stream",
          "name": "stdout",
          "text": [
            "kajol\n"
          ]
        }
      ]
    }
  ]
}